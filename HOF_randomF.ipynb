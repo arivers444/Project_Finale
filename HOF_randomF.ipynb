{
  "nbformat": 4,
  "nbformat_minor": 0,
  "metadata": {
    "colab": {
      "name": "HOF_randomF.ipynb",
      "provenance": [],
      "collapsed_sections": [
        "fpYDUxH9vDKw",
        "3L7UpCl3vDLa"
      ],
      "include_colab_link": true
    },
    "kernelspec": {
      "display_name": "PythonData",
      "language": "python",
      "name": "pythondata"
    },
    "language_info": {
      "codemirror_mode": {
        "name": "ipython",
        "version": 3
      },
      "file_extension": ".py",
      "mimetype": "text/x-python",
      "name": "python",
      "nbconvert_exporter": "python",
      "pygments_lexer": "ipython3",
      "version": "3.7.7"
    }
  },
  "cells": [
    {
      "cell_type": "markdown",
      "metadata": {
        "id": "view-in-github",
        "colab_type": "text"
      },
      "source": [
        "<a href=\"https://colab.research.google.com/github/arivers444/Project_Finale/blob/Angela/HOF_randomF.ipynb\" target=\"_parent\"><img src=\"https://colab.research.google.com/assets/colab-badge.svg\" alt=\"Open In Colab\"/></a>"
      ]
    },
    {
      "cell_type": "code",
      "metadata": {
        "id": "hWDWY1rEhmCa"
      },
      "source": [
        "# Initial imports.\n",
        "import pandas as pd\n",
        "from sklearn.ensemble import RandomForestClassifier\n",
        "from sklearn.preprocessing import StandardScaler\n",
        "from sklearn.model_selection import train_test_split\n",
        "from sklearn.metrics import confusion_matrix, accuracy_score, classification_report\n",
        "import seaborn as sn\n",
        "import matplotlib.pyplot as plt"
      ],
      "execution_count": null,
      "outputs": []
    },
    {
      "cell_type": "markdown",
      "metadata": {
        "id": "UpAGfZ2VvDKX"
      },
      "source": [
        "# Initial Trial with csv files"
      ]
    },
    {
      "cell_type": "code",
      "metadata": {
        "id": "eFmpJNkYhr0v",
        "scrolled": true
      },
      "source": [
        "# from google.colab import files \n",
        "# uploaded = files.upload()"
      ],
      "execution_count": null,
      "outputs": []
    },
    {
      "cell_type": "code",
      "metadata": {
        "id": "Caon-Z0pi4j_",
        "scrolled": true
      },
      "source": [
        "# import io\n",
        "# df = pd.read_csv(io.BytesIO(uploaded['ml_BattingFielding.csv']))\n",
        "# df.head()\n",
        "# # Dataset is now stored in a Pandas Dataframe"
      ],
      "execution_count": null,
      "outputs": []
    },
    {
      "cell_type": "markdown",
      "metadata": {
        "id": "4vxVbXXevDKb"
      },
      "source": [
        "# Database Connection"
      ]
    },
    {
      "cell_type": "code",
      "metadata": {
        "id": "_vTIgQoCvDKc"
      },
      "source": [
        "# dependencies\n",
        "import psycopg2\n",
        "from config import config"
      ],
      "execution_count": null,
      "outputs": []
    },
    {
      "cell_type": "code",
      "metadata": {
        "id": "I4SourkpvDKe"
      },
      "source": [
        "# get parameters\n",
        "params = config()"
      ],
      "execution_count": null,
      "outputs": []
    },
    {
      "cell_type": "code",
      "metadata": {
        "id": "DJYu_wBuvDKg"
      },
      "source": [
        "# connect to PostgreSQL database\n",
        "conn = psycopg2.connect(**params)\n",
        "\n",
        "# create a new cursor\n",
        "cur = conn.cursor()"
      ],
      "execution_count": null,
      "outputs": []
    },
    {
      "cell_type": "code",
      "metadata": {
        "scrolled": true,
        "id": "m5FIbh_9vDKi"
      },
      "source": [
        "# funcion to create a pandas df given parameters of: 1. SQL query 2. database connection\n",
        "def create_pandas_table(sql_query, database = conn):\n",
        "    table = pd.read_sql_query(sql_query, database)\n",
        "    return table"
      ],
      "execution_count": null,
      "outputs": []
    },
    {
      "cell_type": "code",
      "metadata": {
        "scrolled": true,
        "id": "DrPfLxudvDKk",
        "outputId": "1542775f-f2cb-49c7-a47f-794c18eb3c54"
      },
      "source": [
        "# trial with only 1 table\n",
        "batting_df = create_pandas_table('SELECT * FROM \"Batting\"')\n",
        "batting_df.head()"
      ],
      "execution_count": null,
      "outputs": [
        {
          "output_type": "execute_result",
          "data": {
            "text/html": [
              "<div>\n",
              "<style scoped>\n",
              "    .dataframe tbody tr th:only-of-type {\n",
              "        vertical-align: middle;\n",
              "    }\n",
              "\n",
              "    .dataframe tbody tr th {\n",
              "        vertical-align: top;\n",
              "    }\n",
              "\n",
              "    .dataframe thead th {\n",
              "        text-align: right;\n",
              "    }\n",
              "</style>\n",
              "<table border=\"1\" class=\"dataframe\">\n",
              "  <thead>\n",
              "    <tr style=\"text-align: right;\">\n",
              "      <th></th>\n",
              "      <th>playerID</th>\n",
              "      <th>G</th>\n",
              "      <th>AB</th>\n",
              "      <th>R</th>\n",
              "      <th>H</th>\n",
              "      <th>2B</th>\n",
              "      <th>3B</th>\n",
              "      <th>HR</th>\n",
              "      <th>RBI</th>\n",
              "      <th>SB</th>\n",
              "      <th>CS</th>\n",
              "      <th>BB</th>\n",
              "      <th>SO</th>\n",
              "      <th>IBB</th>\n",
              "      <th>HBP</th>\n",
              "      <th>SH</th>\n",
              "      <th>SF</th>\n",
              "      <th>GIDP</th>\n",
              "      <th>AVG</th>\n",
              "    </tr>\n",
              "  </thead>\n",
              "  <tbody>\n",
              "    <tr>\n",
              "      <th>0</th>\n",
              "      <td>aardsda01</td>\n",
              "      <td>331</td>\n",
              "      <td>4</td>\n",
              "      <td>0</td>\n",
              "      <td>0</td>\n",
              "      <td>0</td>\n",
              "      <td>0</td>\n",
              "      <td>0</td>\n",
              "      <td>0.0</td>\n",
              "      <td>0.0</td>\n",
              "      <td>0.0</td>\n",
              "      <td>0</td>\n",
              "      <td>2.0</td>\n",
              "      <td>0.0</td>\n",
              "      <td>0.0</td>\n",
              "      <td>1.0</td>\n",
              "      <td>0.0</td>\n",
              "      <td>0.0</td>\n",
              "      <td>0.000000</td>\n",
              "    </tr>\n",
              "    <tr>\n",
              "      <th>1</th>\n",
              "      <td>aaronha01</td>\n",
              "      <td>3298</td>\n",
              "      <td>12364</td>\n",
              "      <td>2174</td>\n",
              "      <td>3771</td>\n",
              "      <td>624</td>\n",
              "      <td>98</td>\n",
              "      <td>755</td>\n",
              "      <td>2297.0</td>\n",
              "      <td>240.0</td>\n",
              "      <td>73.0</td>\n",
              "      <td>1402</td>\n",
              "      <td>1383.0</td>\n",
              "      <td>293.0</td>\n",
              "      <td>32.0</td>\n",
              "      <td>21.0</td>\n",
              "      <td>121.0</td>\n",
              "      <td>328.0</td>\n",
              "      <td>0.304998</td>\n",
              "    </tr>\n",
              "    <tr>\n",
              "      <th>2</th>\n",
              "      <td>aaronto01</td>\n",
              "      <td>437</td>\n",
              "      <td>944</td>\n",
              "      <td>102</td>\n",
              "      <td>216</td>\n",
              "      <td>42</td>\n",
              "      <td>6</td>\n",
              "      <td>13</td>\n",
              "      <td>94.0</td>\n",
              "      <td>9.0</td>\n",
              "      <td>8.0</td>\n",
              "      <td>86</td>\n",
              "      <td>145.0</td>\n",
              "      <td>3.0</td>\n",
              "      <td>0.0</td>\n",
              "      <td>9.0</td>\n",
              "      <td>6.0</td>\n",
              "      <td>36.0</td>\n",
              "      <td>0.228814</td>\n",
              "    </tr>\n",
              "    <tr>\n",
              "      <th>3</th>\n",
              "      <td>aasedo01</td>\n",
              "      <td>448</td>\n",
              "      <td>5</td>\n",
              "      <td>0</td>\n",
              "      <td>0</td>\n",
              "      <td>0</td>\n",
              "      <td>0</td>\n",
              "      <td>0</td>\n",
              "      <td>0.0</td>\n",
              "      <td>0.0</td>\n",
              "      <td>0.0</td>\n",
              "      <td>0</td>\n",
              "      <td>3.0</td>\n",
              "      <td>0.0</td>\n",
              "      <td>0.0</td>\n",
              "      <td>0.0</td>\n",
              "      <td>0.0</td>\n",
              "      <td>0.0</td>\n",
              "      <td>0.000000</td>\n",
              "    </tr>\n",
              "    <tr>\n",
              "      <th>4</th>\n",
              "      <td>abadan01</td>\n",
              "      <td>15</td>\n",
              "      <td>21</td>\n",
              "      <td>1</td>\n",
              "      <td>2</td>\n",
              "      <td>0</td>\n",
              "      <td>0</td>\n",
              "      <td>0</td>\n",
              "      <td>0.0</td>\n",
              "      <td>0.0</td>\n",
              "      <td>1.0</td>\n",
              "      <td>4</td>\n",
              "      <td>5.0</td>\n",
              "      <td>0.0</td>\n",
              "      <td>0.0</td>\n",
              "      <td>0.0</td>\n",
              "      <td>0.0</td>\n",
              "      <td>1.0</td>\n",
              "      <td>0.095238</td>\n",
              "    </tr>\n",
              "  </tbody>\n",
              "</table>\n",
              "</div>"
            ],
            "text/plain": [
              "    playerID     G     AB     R     H   2B  3B   HR     RBI     SB    CS  \\\n",
              "0  aardsda01   331      4     0     0    0   0    0     0.0    0.0   0.0   \n",
              "1  aaronha01  3298  12364  2174  3771  624  98  755  2297.0  240.0  73.0   \n",
              "2  aaronto01   437    944   102   216   42   6   13    94.0    9.0   8.0   \n",
              "3   aasedo01   448      5     0     0    0   0    0     0.0    0.0   0.0   \n",
              "4   abadan01    15     21     1     2    0   0    0     0.0    0.0   1.0   \n",
              "\n",
              "     BB      SO    IBB   HBP    SH     SF   GIDP       AVG  \n",
              "0     0     2.0    0.0   0.0   1.0    0.0    0.0  0.000000  \n",
              "1  1402  1383.0  293.0  32.0  21.0  121.0  328.0  0.304998  \n",
              "2    86   145.0    3.0   0.0   9.0    6.0   36.0  0.228814  \n",
              "3     0     3.0    0.0   0.0   0.0    0.0    0.0  0.000000  \n",
              "4     4     5.0    0.0   0.0   0.0    0.0    1.0  0.095238  "
            ]
          },
          "metadata": {
            "tags": []
          },
          "execution_count": 8
        }
      ]
    },
    {
      "cell_type": "markdown",
      "metadata": {
        "id": "uy4apE9lvDKn"
      },
      "source": [
        "### Build batting and fielding dataframe"
      ]
    },
    {
      "cell_type": "code",
      "metadata": {
        "id": "jmiKSSpIvDKn",
        "outputId": "4297fd4b-6809-4604-8e90-543921676d34"
      },
      "source": [
        "# build batting/fielding df for machine learning analysis with SQL JOIN  multiple tables\n",
        "combined_df = create_pandas_table('SELECT h.\"playerID\",h.\"inducted\", b.\"R\",b.\"H\",b.\"2B\",b.\"3B\",b.\"HR\",b.\"RBI\",b.\"SB\", \\\n",
        "                                b.\"CS\",b.\"BB\",b.\"SO\",b.\"IBB\",b.\"SH\",b.\"SF\",b.\"GIDP\",b.\"AVG\",f.\"PO\",f.\"A\",f.\"E\",f.\"DP\",a.\"award_count\" \\\n",
        "                                   FROM \"Hall_Of_Fame\" AS h \\\n",
        "                                   INNER JOIN \"Batting\" as b ON (h.\"playerID\" = b.\"playerID\") \\\n",
        "                                   INNER JOIN \"Fielding\" as f ON (h.\"playerID\" = f.\"playerID\") \\\n",
        "                                   INNER JOIN \"Awards\" as a ON (h.\"playerID\" = a.\"playerID\")')\n",
        "combined_df.head()"
      ],
      "execution_count": null,
      "outputs": [
        {
          "output_type": "execute_result",
          "data": {
            "text/html": [
              "<div>\n",
              "<style scoped>\n",
              "    .dataframe tbody tr th:only-of-type {\n",
              "        vertical-align: middle;\n",
              "    }\n",
              "\n",
              "    .dataframe tbody tr th {\n",
              "        vertical-align: top;\n",
              "    }\n",
              "\n",
              "    .dataframe thead th {\n",
              "        text-align: right;\n",
              "    }\n",
              "</style>\n",
              "<table border=\"1\" class=\"dataframe\">\n",
              "  <thead>\n",
              "    <tr style=\"text-align: right;\">\n",
              "      <th></th>\n",
              "      <th>playerID</th>\n",
              "      <th>inducted</th>\n",
              "      <th>R</th>\n",
              "      <th>H</th>\n",
              "      <th>2B</th>\n",
              "      <th>3B</th>\n",
              "      <th>HR</th>\n",
              "      <th>RBI</th>\n",
              "      <th>SB</th>\n",
              "      <th>CS</th>\n",
              "      <th>...</th>\n",
              "      <th>IBB</th>\n",
              "      <th>SH</th>\n",
              "      <th>SF</th>\n",
              "      <th>GIDP</th>\n",
              "      <th>AVG</th>\n",
              "      <th>PO</th>\n",
              "      <th>A</th>\n",
              "      <th>E</th>\n",
              "      <th>DP</th>\n",
              "      <th>award_count</th>\n",
              "    </tr>\n",
              "  </thead>\n",
              "  <tbody>\n",
              "    <tr>\n",
              "      <th>0</th>\n",
              "      <td>aaronha01</td>\n",
              "      <td>Y</td>\n",
              "      <td>2174</td>\n",
              "      <td>3771</td>\n",
              "      <td>624</td>\n",
              "      <td>98</td>\n",
              "      <td>755</td>\n",
              "      <td>2297.0</td>\n",
              "      <td>240.0</td>\n",
              "      <td>73.0</td>\n",
              "      <td>...</td>\n",
              "      <td>293.0</td>\n",
              "      <td>21.0</td>\n",
              "      <td>121.0</td>\n",
              "      <td>328.0</td>\n",
              "      <td>0.304998</td>\n",
              "      <td>7436</td>\n",
              "      <td>429</td>\n",
              "      <td>144.0</td>\n",
              "      <td>218</td>\n",
              "      <td>16</td>\n",
              "    </tr>\n",
              "    <tr>\n",
              "      <th>1</th>\n",
              "      <td>abbotji01</td>\n",
              "      <td>N</td>\n",
              "      <td>0</td>\n",
              "      <td>2</td>\n",
              "      <td>0</td>\n",
              "      <td>0</td>\n",
              "      <td>0</td>\n",
              "      <td>3.0</td>\n",
              "      <td>0.0</td>\n",
              "      <td>0.0</td>\n",
              "      <td>...</td>\n",
              "      <td>0.0</td>\n",
              "      <td>3.0</td>\n",
              "      <td>0.0</td>\n",
              "      <td>0.0</td>\n",
              "      <td>0.095238</td>\n",
              "      <td>72</td>\n",
              "      <td>300</td>\n",
              "      <td>9.0</td>\n",
              "      <td>16</td>\n",
              "      <td>2</td>\n",
              "    </tr>\n",
              "    <tr>\n",
              "      <th>2</th>\n",
              "      <td>adamsba01</td>\n",
              "      <td>N</td>\n",
              "      <td>79</td>\n",
              "      <td>216</td>\n",
              "      <td>31</td>\n",
              "      <td>15</td>\n",
              "      <td>3</td>\n",
              "      <td>75.0</td>\n",
              "      <td>1.0</td>\n",
              "      <td>1.0</td>\n",
              "      <td>...</td>\n",
              "      <td>0.0</td>\n",
              "      <td>35.0</td>\n",
              "      <td>0.0</td>\n",
              "      <td>0.0</td>\n",
              "      <td>0.211973</td>\n",
              "      <td>58</td>\n",
              "      <td>648</td>\n",
              "      <td>17.0</td>\n",
              "      <td>17</td>\n",
              "      <td>2</td>\n",
              "    </tr>\n",
              "    <tr>\n",
              "      <th>3</th>\n",
              "      <td>ageeto01</td>\n",
              "      <td>N</td>\n",
              "      <td>558</td>\n",
              "      <td>999</td>\n",
              "      <td>170</td>\n",
              "      <td>27</td>\n",
              "      <td>130</td>\n",
              "      <td>433.0</td>\n",
              "      <td>167.0</td>\n",
              "      <td>81.0</td>\n",
              "      <td>...</td>\n",
              "      <td>26.0</td>\n",
              "      <td>21.0</td>\n",
              "      <td>15.0</td>\n",
              "      <td>99.0</td>\n",
              "      <td>0.255368</td>\n",
              "      <td>2371</td>\n",
              "      <td>53</td>\n",
              "      <td>61.0</td>\n",
              "      <td>18</td>\n",
              "      <td>3</td>\n",
              "    </tr>\n",
              "    <tr>\n",
              "      <th>4</th>\n",
              "      <td>akerja01</td>\n",
              "      <td>N</td>\n",
              "      <td>3</td>\n",
              "      <td>7</td>\n",
              "      <td>2</td>\n",
              "      <td>0</td>\n",
              "      <td>0</td>\n",
              "      <td>4.0</td>\n",
              "      <td>0.0</td>\n",
              "      <td>0.0</td>\n",
              "      <td>...</td>\n",
              "      <td>0.0</td>\n",
              "      <td>10.0</td>\n",
              "      <td>0.0</td>\n",
              "      <td>1.0</td>\n",
              "      <td>0.076087</td>\n",
              "      <td>65</td>\n",
              "      <td>167</td>\n",
              "      <td>8.0</td>\n",
              "      <td>20</td>\n",
              "      <td>1</td>\n",
              "    </tr>\n",
              "  </tbody>\n",
              "</table>\n",
              "<p>5 rows × 22 columns</p>\n",
              "</div>"
            ],
            "text/plain": [
              "    playerID inducted     R     H   2B  3B   HR     RBI     SB    CS  ...  \\\n",
              "0  aaronha01        Y  2174  3771  624  98  755  2297.0  240.0  73.0  ...   \n",
              "1  abbotji01        N     0     2    0   0    0     3.0    0.0   0.0  ...   \n",
              "2  adamsba01        N    79   216   31  15    3    75.0    1.0   1.0  ...   \n",
              "3   ageeto01        N   558   999  170  27  130   433.0  167.0  81.0  ...   \n",
              "4   akerja01        N     3     7    2   0    0     4.0    0.0   0.0  ...   \n",
              "\n",
              "     IBB    SH     SF   GIDP       AVG    PO    A      E   DP  award_count  \n",
              "0  293.0  21.0  121.0  328.0  0.304998  7436  429  144.0  218           16  \n",
              "1    0.0   3.0    0.0    0.0  0.095238    72  300    9.0   16            2  \n",
              "2    0.0  35.0    0.0    0.0  0.211973    58  648   17.0   17            2  \n",
              "3   26.0  21.0   15.0   99.0  0.255368  2371   53   61.0   18            3  \n",
              "4    0.0  10.0    0.0    1.0  0.076087    65  167    8.0   20            1  \n",
              "\n",
              "[5 rows x 22 columns]"
            ]
          },
          "metadata": {
            "tags": []
          },
          "execution_count": 9
        }
      ]
    },
    {
      "cell_type": "code",
      "metadata": {
        "id": "Dh4aBujLvDKp",
        "outputId": "76fa6f49-6c8a-44c8-d91a-7e465cfe0297"
      },
      "source": [
        "combined_df.shape"
      ],
      "execution_count": null,
      "outputs": [
        {
          "output_type": "execute_result",
          "data": {
            "text/plain": [
              "(751, 22)"
            ]
          },
          "metadata": {
            "tags": []
          },
          "execution_count": 10
        }
      ]
    },
    {
      "cell_type": "code",
      "metadata": {
        "id": "2geL5LUivDKq",
        "outputId": "8b3c9d27-11ad-4210-ab87-4d25dc3f5e59"
      },
      "source": [
        "combined_df.isnull().sum()"
      ],
      "execution_count": null,
      "outputs": [
        {
          "output_type": "execute_result",
          "data": {
            "text/plain": [
              "playerID       0\n",
              "inducted       0\n",
              "R              0\n",
              "H              0\n",
              "2B             0\n",
              "3B             0\n",
              "HR             0\n",
              "RBI            0\n",
              "SB             0\n",
              "CS             0\n",
              "BB             0\n",
              "SO             0\n",
              "IBB            0\n",
              "SH             0\n",
              "SF             0\n",
              "GIDP           0\n",
              "AVG            5\n",
              "PO             0\n",
              "A              0\n",
              "E              0\n",
              "DP             0\n",
              "award_count    0\n",
              "dtype: int64"
            ]
          },
          "metadata": {
            "tags": []
          },
          "execution_count": 11
        }
      ]
    },
    {
      "cell_type": "code",
      "metadata": {
        "id": "4eozBLiGvDKs"
      },
      "source": [
        "# drop the rows with null values\n",
        "combined_df = combined_df.dropna(subset=['AVG'])"
      ],
      "execution_count": null,
      "outputs": []
    },
    {
      "cell_type": "code",
      "metadata": {
        "scrolled": true,
        "id": "U-1ht_HHvDKu",
        "outputId": "9b7892f1-0895-4f91-aba8-a1e38b09ceb5"
      },
      "source": [
        "# double check df shape\n",
        "combined_df.shape"
      ],
      "execution_count": null,
      "outputs": [
        {
          "output_type": "execute_result",
          "data": {
            "text/plain": [
              "(746, 22)"
            ]
          },
          "metadata": {
            "tags": []
          },
          "execution_count": 13
        }
      ]
    },
    {
      "cell_type": "markdown",
      "metadata": {
        "id": "fpYDUxH9vDKw"
      },
      "source": [
        "### Build pitching dataframe"
      ]
    },
    {
      "cell_type": "code",
      "metadata": {
        "scrolled": false,
        "id": "82ovM9XhvDKx",
        "outputId": "6148853a-fad4-44e2-ad02-d3fc943d3637"
      },
      "source": [
        "# build pitching df for machine learning analysis with SQL JOIN multiple tables\n",
        "pitching_df = create_pandas_table('SELECT h.\"playerID\",h.\"inducted\",p.\"W\",p.\"L\",p.\"CG\",p.\"SHO\",p.\"SV\",p.\"H_allowed\",p.\"ER\",p.\"HR_allowed\",p.\"BB_allowed\",p.\"StruckOut\",p.\"BAOpp\",p.\"ERA\",p.\"WP\",p.\"HitBatsmen\",p.\"BK\",p.\"R_allowed\",p.\"SH_allowed\",p.\"SF_allowed\",p.\"GIDP_pitcher\",a.\"award_count\" FROM \"Hall_Of_Fame\" AS h INNER JOIN \"Pitching\" as p ON (h.\"playerID\" = p.\"playerID\") INNER JOIN \"Awards\" as a ON (h.\"playerID\" = a.\"playerID\")')\n",
        "pitching_df.head()"
      ],
      "execution_count": null,
      "outputs": [
        {
          "output_type": "execute_result",
          "data": {
            "text/html": [
              "<div>\n",
              "<style scoped>\n",
              "    .dataframe tbody tr th:only-of-type {\n",
              "        vertical-align: middle;\n",
              "    }\n",
              "\n",
              "    .dataframe tbody tr th {\n",
              "        vertical-align: top;\n",
              "    }\n",
              "\n",
              "    .dataframe thead th {\n",
              "        text-align: right;\n",
              "    }\n",
              "</style>\n",
              "<table border=\"1\" class=\"dataframe\">\n",
              "  <thead>\n",
              "    <tr style=\"text-align: right;\">\n",
              "      <th></th>\n",
              "      <th>playerID</th>\n",
              "      <th>inducted</th>\n",
              "      <th>W</th>\n",
              "      <th>L</th>\n",
              "      <th>CG</th>\n",
              "      <th>SHO</th>\n",
              "      <th>SV</th>\n",
              "      <th>H_allowed</th>\n",
              "      <th>ER</th>\n",
              "      <th>HR_allowed</th>\n",
              "      <th>...</th>\n",
              "      <th>BAOpp</th>\n",
              "      <th>ERA</th>\n",
              "      <th>WP</th>\n",
              "      <th>HitBatsmen</th>\n",
              "      <th>BK</th>\n",
              "      <th>R_allowed</th>\n",
              "      <th>SH_allowed</th>\n",
              "      <th>SF_allowed</th>\n",
              "      <th>GIDP_pitcher</th>\n",
              "      <th>award_count</th>\n",
              "    </tr>\n",
              "  </thead>\n",
              "  <tbody>\n",
              "    <tr>\n",
              "      <th>0</th>\n",
              "      <td>abbotji01</td>\n",
              "      <td>N</td>\n",
              "      <td>87</td>\n",
              "      <td>108</td>\n",
              "      <td>31</td>\n",
              "      <td>6</td>\n",
              "      <td>0</td>\n",
              "      <td>1779</td>\n",
              "      <td>791</td>\n",
              "      <td>154</td>\n",
              "      <td>...</td>\n",
              "      <td>0.280364</td>\n",
              "      <td>4.496364</td>\n",
              "      <td>53</td>\n",
              "      <td>32.0</td>\n",
              "      <td>11</td>\n",
              "      <td>880</td>\n",
              "      <td>70.0</td>\n",
              "      <td>47.0</td>\n",
              "      <td>200.0</td>\n",
              "      <td>2</td>\n",
              "    </tr>\n",
              "    <tr>\n",
              "      <th>1</th>\n",
              "      <td>adamsba01</td>\n",
              "      <td>N</td>\n",
              "      <td>194</td>\n",
              "      <td>140</td>\n",
              "      <td>206</td>\n",
              "      <td>44</td>\n",
              "      <td>15</td>\n",
              "      <td>2841</td>\n",
              "      <td>917</td>\n",
              "      <td>68</td>\n",
              "      <td>...</td>\n",
              "      <td>0.256667</td>\n",
              "      <td>3.733684</td>\n",
              "      <td>26</td>\n",
              "      <td>47.0</td>\n",
              "      <td>2</td>\n",
              "      <td>1129</td>\n",
              "      <td>0.0</td>\n",
              "      <td>0.0</td>\n",
              "      <td>0.0</td>\n",
              "      <td>2</td>\n",
              "    </tr>\n",
              "    <tr>\n",
              "      <th>2</th>\n",
              "      <td>akerja01</td>\n",
              "      <td>N</td>\n",
              "      <td>47</td>\n",
              "      <td>45</td>\n",
              "      <td>0</td>\n",
              "      <td>0</td>\n",
              "      <td>123</td>\n",
              "      <td>679</td>\n",
              "      <td>272</td>\n",
              "      <td>64</td>\n",
              "      <td>...</td>\n",
              "      <td>0.253571</td>\n",
              "      <td>3.854286</td>\n",
              "      <td>13</td>\n",
              "      <td>40.0</td>\n",
              "      <td>0</td>\n",
              "      <td>312</td>\n",
              "      <td>32.0</td>\n",
              "      <td>12.0</td>\n",
              "      <td>19.0</td>\n",
              "      <td>1</td>\n",
              "    </tr>\n",
              "    <tr>\n",
              "      <th>3</th>\n",
              "      <td>alexape01</td>\n",
              "      <td>Y</td>\n",
              "      <td>373</td>\n",
              "      <td>208</td>\n",
              "      <td>437</td>\n",
              "      <td>90</td>\n",
              "      <td>32</td>\n",
              "      <td>4868</td>\n",
              "      <td>1476</td>\n",
              "      <td>164</td>\n",
              "      <td>...</td>\n",
              "      <td>0.253810</td>\n",
              "      <td>2.972381</td>\n",
              "      <td>39</td>\n",
              "      <td>70.0</td>\n",
              "      <td>1</td>\n",
              "      <td>1851</td>\n",
              "      <td>0.0</td>\n",
              "      <td>0.0</td>\n",
              "      <td>0.0</td>\n",
              "      <td>21</td>\n",
              "    </tr>\n",
              "    <tr>\n",
              "      <th>4</th>\n",
              "      <td>allenjo02</td>\n",
              "      <td>N</td>\n",
              "      <td>142</td>\n",
              "      <td>75</td>\n",
              "      <td>109</td>\n",
              "      <td>17</td>\n",
              "      <td>18</td>\n",
              "      <td>1849</td>\n",
              "      <td>813</td>\n",
              "      <td>104</td>\n",
              "      <td>...</td>\n",
              "      <td>0.244667</td>\n",
              "      <td>3.765333</td>\n",
              "      <td>68</td>\n",
              "      <td>38.0</td>\n",
              "      <td>5</td>\n",
              "      <td>924</td>\n",
              "      <td>0.0</td>\n",
              "      <td>0.0</td>\n",
              "      <td>0.0</td>\n",
              "      <td>4</td>\n",
              "    </tr>\n",
              "  </tbody>\n",
              "</table>\n",
              "<p>5 rows × 22 columns</p>\n",
              "</div>"
            ],
            "text/plain": [
              "    playerID inducted    W    L   CG  SHO   SV  H_allowed    ER  HR_allowed  \\\n",
              "0  abbotji01        N   87  108   31    6    0       1779   791         154   \n",
              "1  adamsba01        N  194  140  206   44   15       2841   917          68   \n",
              "2   akerja01        N   47   45    0    0  123        679   272          64   \n",
              "3  alexape01        Y  373  208  437   90   32       4868  1476         164   \n",
              "4  allenjo02        N  142   75  109   17   18       1849   813         104   \n",
              "\n",
              "   ...     BAOpp       ERA  WP  HitBatsmen  BK  R_allowed  SH_allowed  \\\n",
              "0  ...  0.280364  4.496364  53        32.0  11        880        70.0   \n",
              "1  ...  0.256667  3.733684  26        47.0   2       1129         0.0   \n",
              "2  ...  0.253571  3.854286  13        40.0   0        312        32.0   \n",
              "3  ...  0.253810  2.972381  39        70.0   1       1851         0.0   \n",
              "4  ...  0.244667  3.765333  68        38.0   5        924         0.0   \n",
              "\n",
              "   SF_allowed  GIDP_pitcher  award_count  \n",
              "0        47.0         200.0            2  \n",
              "1         0.0           0.0            2  \n",
              "2        12.0          19.0            1  \n",
              "3         0.0           0.0           21  \n",
              "4         0.0           0.0            4  \n",
              "\n",
              "[5 rows x 22 columns]"
            ]
          },
          "metadata": {
            "tags": []
          },
          "execution_count": 14
        }
      ]
    },
    {
      "cell_type": "code",
      "metadata": {
        "scrolled": false,
        "id": "FfhnSna4vDKy",
        "outputId": "37298f43-8424-46f5-f62d-82f938b28ac5"
      },
      "source": [
        "# check shape of df\n",
        "pitching_df.shape"
      ],
      "execution_count": null,
      "outputs": [
        {
          "output_type": "execute_result",
          "data": {
            "text/plain": [
              "(284, 22)"
            ]
          },
          "metadata": {
            "tags": []
          },
          "execution_count": 15
        }
      ]
    },
    {
      "cell_type": "code",
      "metadata": {
        "id": "5_k7dYkWvDK0",
        "outputId": "dabd2892-2077-4698-e5f6-b09459add80e"
      },
      "source": [
        "# check for null values\n",
        "pitching_df.isnull().sum()"
      ],
      "execution_count": null,
      "outputs": [
        {
          "output_type": "execute_result",
          "data": {
            "text/plain": [
              "playerID         0\n",
              "inducted         0\n",
              "W                0\n",
              "L                0\n",
              "CG               0\n",
              "SHO              0\n",
              "SV               0\n",
              "H_allowed        0\n",
              "ER               0\n",
              "HR_allowed       0\n",
              "BB_allowed       0\n",
              "StruckOut        0\n",
              "BAOpp           14\n",
              "ERA              2\n",
              "WP               0\n",
              "HitBatsmen       0\n",
              "BK               0\n",
              "R_allowed        0\n",
              "SH_allowed       0\n",
              "SF_allowed       0\n",
              "GIDP_pitcher     0\n",
              "award_count      0\n",
              "dtype: int64"
            ]
          },
          "metadata": {
            "tags": []
          },
          "execution_count": 16
        }
      ]
    },
    {
      "cell_type": "code",
      "metadata": {
        "id": "nb5LeqF2vDK2"
      },
      "source": [
        "# drop the rows with null values\n",
        "pitching_df = pitching_df.dropna(subset=['ERA','BAOpp'])"
      ],
      "execution_count": null,
      "outputs": []
    },
    {
      "cell_type": "code",
      "metadata": {
        "scrolled": true,
        "id": "ZLuZafAFvDK3",
        "outputId": "61778c17-8b10-46d9-c359-ec213facf9eb"
      },
      "source": [
        "# double check df shape\n",
        "pitching_df.shape"
      ],
      "execution_count": null,
      "outputs": [
        {
          "output_type": "execute_result",
          "data": {
            "text/plain": [
              "(268, 22)"
            ]
          },
          "metadata": {
            "tags": []
          },
          "execution_count": 18
        }
      ]
    },
    {
      "cell_type": "markdown",
      "metadata": {
        "id": "WKTE7KeGvDK5"
      },
      "source": [
        "# Machine Learning"
      ]
    },
    {
      "cell_type": "code",
      "metadata": {
        "id": "GbY06FzsvDK5"
      },
      "source": [
        "# define which dataframe will be used in machine learning model\n",
        "# e.g. pitching or batting/fielding\n",
        "\n",
        "df = combined_df"
      ],
      "execution_count": null,
      "outputs": []
    },
    {
      "cell_type": "code",
      "metadata": {
        "id": "lVp9oW6FisqH"
      },
      "source": [
        "# encode inducted column from Y/N to numeric 0/1\n",
        "from sklearn.preprocessing import LabelEncoder\n",
        "le = LabelEncoder()\n",
        "df2 = df.copy()\n",
        "df2['inducted'] = le.fit_transform(df2['inducted'])"
      ],
      "execution_count": null,
      "outputs": []
    },
    {
      "cell_type": "code",
      "metadata": {
        "id": "Q6E-BjyGixcD"
      },
      "source": [
        "# encode playerID to numeric\n",
        "# possibly remove if we want to keep playerID's as index to later reference player names\n",
        "\n",
        "# df2['playerID'] = le.fit_transform(df2['playerID'])"
      ],
      "execution_count": null,
      "outputs": []
    },
    {
      "cell_type": "code",
      "metadata": {
        "id": "P7d9n0Rphy2F"
      },
      "source": [
        "# define input (X) and output (y) variables\n",
        "# drop columns of unnecessary features in X \n",
        "# batting/fielding 1st iteration showed the following features contributed <3%:\n",
        "# SF, CS, IBB, SB\n",
        "\n",
        "y = df2[\"inducted\"]\n",
        "X = df2.drop(columns=[\"inducted\", \"playerID\", \"SF\", \"CS\", \"IBB\", \"SB\"])"
      ],
      "execution_count": null,
      "outputs": []
    },
    {
      "cell_type": "code",
      "metadata": {
        "id": "ns0s64Iyh9CI"
      },
      "source": [
        "# Splitting into Train and Test sets.\n",
        "X_train, X_test, y_train, y_test = train_test_split(X, y, random_state=78)"
      ],
      "execution_count": null,
      "outputs": []
    },
    {
      "cell_type": "code",
      "metadata": {
        "id": "5CopZ47viDJ5"
      },
      "source": [
        "# Creating a StandardScaler instance.\n",
        "scaler = StandardScaler()\n",
        "# Fitting the Standard Scaler with the training data.\n",
        "X_scaler = scaler.fit(X_train)\n",
        "\n",
        "# Scaling the data.\n",
        "X_train_scaled = X_scaler.transform(X_train)\n",
        "X_test_scaled = X_scaler.transform(X_test)"
      ],
      "execution_count": null,
      "outputs": []
    },
    {
      "cell_type": "code",
      "metadata": {
        "id": "CvW1Mw26iHAT"
      },
      "source": [
        "# Create a random forest classifier.\n",
        "rf_model = RandomForestClassifier(n_estimators=128, random_state=78) "
      ],
      "execution_count": null,
      "outputs": []
    },
    {
      "cell_type": "code",
      "metadata": {
        "id": "D3zKq7u5iQBi"
      },
      "source": [
        "# Fitting the model\n",
        "rf_model = rf_model.fit(X_train_scaled, y_train)"
      ],
      "execution_count": null,
      "outputs": []
    },
    {
      "cell_type": "code",
      "metadata": {
        "id": "gz2qeo8ziTa1"
      },
      "source": [
        "# Making predictions using the testing data.\n",
        "predictions = rf_model.predict(X_test_scaled)"
      ],
      "execution_count": null,
      "outputs": []
    },
    {
      "cell_type": "code",
      "metadata": {
        "id": "wHez-aopiYkb",
        "outputId": "9d596d1e-a28d-49cd-8943-c388f74038a9",
        "colab": {
          "base_uri": "https://localhost:8080/",
          "height": 111
        }
      },
      "source": [
        "# Calculating the confusion matrix.\n",
        "cm = confusion_matrix(y_test, predictions)\n",
        "\n",
        "# Create a DataFrame from the confusion matrix.\n",
        "cm_df = pd.DataFrame(\n",
        "    cm, index=[\"Actual 0\", \"Actual 1\"], columns=[\"Predicted 0\", \"Predicted 1\"])\n",
        "\n",
        "cm_df"
      ],
      "execution_count": null,
      "outputs": [
        {
          "output_type": "execute_result",
          "data": {
            "text/html": [
              "<div>\n",
              "<style scoped>\n",
              "    .dataframe tbody tr th:only-of-type {\n",
              "        vertical-align: middle;\n",
              "    }\n",
              "\n",
              "    .dataframe tbody tr th {\n",
              "        vertical-align: top;\n",
              "    }\n",
              "\n",
              "    .dataframe thead th {\n",
              "        text-align: right;\n",
              "    }\n",
              "</style>\n",
              "<table border=\"1\" class=\"dataframe\">\n",
              "  <thead>\n",
              "    <tr style=\"text-align: right;\">\n",
              "      <th></th>\n",
              "      <th>Predicted 0</th>\n",
              "      <th>Predicted 1</th>\n",
              "    </tr>\n",
              "  </thead>\n",
              "  <tbody>\n",
              "    <tr>\n",
              "      <th>Actual 0</th>\n",
              "      <td>127</td>\n",
              "      <td>12</td>\n",
              "    </tr>\n",
              "    <tr>\n",
              "      <th>Actual 1</th>\n",
              "      <td>13</td>\n",
              "      <td>35</td>\n",
              "    </tr>\n",
              "  </tbody>\n",
              "</table>\n",
              "</div>"
            ],
            "text/plain": [
              "          Predicted 0  Predicted 1\n",
              "Actual 0          127           12\n",
              "Actual 1           13           35"
            ]
          },
          "metadata": {
            "tags": []
          },
          "execution_count": 28
        }
      ]
    },
    {
      "cell_type": "code",
      "metadata": {
        "id": "PyW8EfQEicuQ"
      },
      "source": [
        "# Calculating the accuracy score.\n",
        "acc_score = accuracy_score(y_test, predictions)"
      ],
      "execution_count": null,
      "outputs": []
    },
    {
      "cell_type": "code",
      "metadata": {
        "id": "ZoghdUJAifXA",
        "scrolled": true,
        "outputId": "0244f8c3-1eab-40ba-8d7b-a8fa61a37fcb",
        "colab": {
          "base_uri": "https://localhost:8080/",
          "height": 315
        }
      },
      "source": [
        "# Displaying results\n",
        "print(\"Confusion Matrix\")\n",
        "display(cm_df)\n",
        "print(f\"Accuracy Score : {acc_score}\")\n",
        "print(\"Classification Report\")\n",
        "print(classification_report(y_test, predictions))\n"
      ],
      "execution_count": null,
      "outputs": [
        {
          "output_type": "stream",
          "text": [
            "Confusion Matrix\n"
          ],
          "name": "stdout"
        },
        {
          "output_type": "display_data",
          "data": {
            "text/html": [
              "<div>\n",
              "<style scoped>\n",
              "    .dataframe tbody tr th:only-of-type {\n",
              "        vertical-align: middle;\n",
              "    }\n",
              "\n",
              "    .dataframe tbody tr th {\n",
              "        vertical-align: top;\n",
              "    }\n",
              "\n",
              "    .dataframe thead th {\n",
              "        text-align: right;\n",
              "    }\n",
              "</style>\n",
              "<table border=\"1\" class=\"dataframe\">\n",
              "  <thead>\n",
              "    <tr style=\"text-align: right;\">\n",
              "      <th></th>\n",
              "      <th>Predicted 0</th>\n",
              "      <th>Predicted 1</th>\n",
              "    </tr>\n",
              "  </thead>\n",
              "  <tbody>\n",
              "    <tr>\n",
              "      <th>Actual 0</th>\n",
              "      <td>127</td>\n",
              "      <td>12</td>\n",
              "    </tr>\n",
              "    <tr>\n",
              "      <th>Actual 1</th>\n",
              "      <td>13</td>\n",
              "      <td>35</td>\n",
              "    </tr>\n",
              "  </tbody>\n",
              "</table>\n",
              "</div>"
            ],
            "text/plain": [
              "          Predicted 0  Predicted 1\n",
              "Actual 0          127           12\n",
              "Actual 1           13           35"
            ]
          },
          "metadata": {
            "tags": []
          }
        },
        {
          "output_type": "stream",
          "text": [
            "Accuracy Score : 0.8663101604278075\n",
            "Classification Report\n",
            "              precision    recall  f1-score   support\n",
            "\n",
            "           0       0.91      0.91      0.91       139\n",
            "           1       0.74      0.73      0.74        48\n",
            "\n",
            "    accuracy                           0.87       187\n",
            "   macro avg       0.83      0.82      0.82       187\n",
            "weighted avg       0.87      0.87      0.87       187\n",
            "\n"
          ],
          "name": "stdout"
        }
      ]
    },
    {
      "cell_type": "markdown",
      "metadata": {
        "id": "f0Gj1iCOvDLN"
      },
      "source": [
        "## Feature Importance"
      ]
    },
    {
      "cell_type": "code",
      "metadata": {
        "id": "U1LESvIylNcx"
      },
      "source": [
        "\n",
        "# importances = rf_model.feature_importances_\n",
        "# importances"
      ],
      "execution_count": null,
      "outputs": []
    },
    {
      "cell_type": "code",
      "metadata": {
        "id": "eRvkiG8LvDLP"
      },
      "source": [
        ""
      ],
      "execution_count": null,
      "outputs": []
    },
    {
      "cell_type": "code",
      "metadata": {
        "id": "saIZC8SUlWed",
        "scrolled": false,
        "outputId": "fda72fde-d0d9-4f32-8ca3-3280f2ea5150",
        "colab": {
          "base_uri": "https://localhost:8080/",
          "height": 357
        }
      },
      "source": [
        "# Calculate feature importance in the Random Forest model & sort largest to smallest\n",
        "importances = sorted(zip(rf_model.feature_importances_, X.columns), reverse=True)\n",
        "importances"
      ],
      "execution_count": null,
      "outputs": [
        {
          "output_type": "execute_result",
          "data": {
            "text/plain": [
              "[(0.16147912339241308, 'award_count'),\n",
              " (0.09405157260170642, 'R'),\n",
              " (0.09112768741100967, 'AVG'),\n",
              " (0.09031537296116243, 'H'),\n",
              " (0.06312932357843094, 'A'),\n",
              " (0.05852511210356192, 'RBI'),\n",
              " (0.055836295695513474, 'SO'),\n",
              " (0.048173059370415085, 'E'),\n",
              " (0.04618862487663315, 'PO'),\n",
              " (0.04595590841272363, '3B'),\n",
              " (0.0439440495451252, '2B'),\n",
              " (0.043821710445384736, 'SH'),\n",
              " (0.04295532881342847, 'BB'),\n",
              " (0.03826045232174703, 'GIDP'),\n",
              " (0.03818608929511483, 'DP'),\n",
              " (0.03805028917562995, 'HR')]"
            ]
          },
          "metadata": {
            "tags": []
          },
          "execution_count": 32
        }
      ]
    },
    {
      "cell_type": "code",
      "metadata": {
        "scrolled": false,
        "id": "atS6jv72vDLS",
        "outputId": "fda72fde-d0d9-4f32-8ca3-3280f2ea5150",
        "colab": {
          "base_uri": "https://localhost:8080/",
          "height": 357
        }
      },
      "source": [
        "# sort the features by their importance.\n",
        "sorted(zip(X.columns), reverse=True)"
      ],
      "execution_count": null,
      "outputs": [
        {
          "output_type": "execute_result",
          "data": {
            "text/plain": [
              "[('award_count',),\n",
              " ('SO',),\n",
              " ('SH',),\n",
              " ('RBI',),\n",
              " ('R',),\n",
              " ('PO',),\n",
              " ('HR',),\n",
              " ('H',),\n",
              " ('GIDP',),\n",
              " ('E',),\n",
              " ('DP',),\n",
              " ('BB',),\n",
              " ('AVG',),\n",
              " ('A',),\n",
              " ('3B',),\n",
              " ('2B',)]"
            ]
          },
          "metadata": {
            "tags": []
          },
          "execution_count": 33
        }
      ]
    },
    {
      "cell_type": "code",
      "metadata": {
        "scrolled": false,
        "id": "rMxra5RbvDLT",
        "outputId": "ebc1bc4a-e149-49a1-f12e-7d09b754bc8f"
      },
      "source": [
        "rf_model.feature_importances_.sum()"
      ],
      "execution_count": null,
      "outputs": [
        {
          "output_type": "execute_result",
          "data": {
            "text/plain": [
              "1.0"
            ]
          },
          "metadata": {
            "tags": []
          },
          "execution_count": 34
        }
      ]
    },
    {
      "cell_type": "code",
      "metadata": {
        "id": "Ey0q9V7VvDLV",
        "outputId": "1016adc0-6bfc-4d89-f3ae-c77aebc90563",
        "colab": {
          "base_uri": "https://localhost:8080/",
          "height": 180
        }
      },
      "source": [
        "x = [lis[-1] for lis in importances]\n",
        "x"
      ],
      "execution_count": null,
      "outputs": [
        {
          "output_type": "error",
          "ename": "NameError",
          "evalue": "ignored",
          "traceback": [
            "\u001b[0;31m---------------------------------------------------------------------------\u001b[0m",
            "\u001b[0;31mNameError\u001b[0m                                 Traceback (most recent call last)",
            "\u001b[0;32m<ipython-input-1-7e1cc88be826>\u001b[0m in \u001b[0;36m<module>\u001b[0;34m()\u001b[0m\n\u001b[0;32m----> 1\u001b[0;31m \u001b[0mx\u001b[0m \u001b[0;34m=\u001b[0m \u001b[0;34m[\u001b[0m\u001b[0mlis\u001b[0m\u001b[0;34m[\u001b[0m\u001b[0;34m-\u001b[0m\u001b[0;36m1\u001b[0m\u001b[0;34m]\u001b[0m \u001b[0;32mfor\u001b[0m \u001b[0mlis\u001b[0m \u001b[0;32min\u001b[0m \u001b[0mimportances\u001b[0m\u001b[0;34m]\u001b[0m\u001b[0;34m\u001b[0m\u001b[0;34m\u001b[0m\u001b[0m\n\u001b[0m\u001b[1;32m      2\u001b[0m \u001b[0mx\u001b[0m\u001b[0;34m\u001b[0m\u001b[0;34m\u001b[0m\u001b[0m\n",
            "\u001b[0;31mNameError\u001b[0m: name 'importances' is not defined"
          ]
        }
      ]
    },
    {
      "cell_type": "code",
      "metadata": {
        "id": "dp4-It9nvDLW",
        "outputId": "4b2bd051-6333-4c92-c40b-bfb4b29676c7"
      },
      "source": [
        "y = [lis[0] for lis in importances]\n",
        "y"
      ],
      "execution_count": null,
      "outputs": [
        {
          "output_type": "execute_result",
          "data": {
            "text/plain": [
              "[0.16147912339241308,\n",
              " 0.09405157260170642,\n",
              " 0.09112768741100967,\n",
              " 0.09031537296116243,\n",
              " 0.06312932357843094,\n",
              " 0.05852511210356192,\n",
              " 0.055836295695513474,\n",
              " 0.048173059370415085,\n",
              " 0.04618862487663315,\n",
              " 0.04595590841272363,\n",
              " 0.0439440495451252,\n",
              " 0.043821710445384736,\n",
              " 0.04295532881342847,\n",
              " 0.03826045232174703,\n",
              " 0.03818608929511483,\n",
              " 0.03805028917562995]"
            ]
          },
          "metadata": {
            "tags": []
          },
          "execution_count": 36
        }
      ]
    },
    {
      "cell_type": "code",
      "metadata": {
        "id": "Rbg1LoR2vDLY",
        "outputId": "ac34676b-883c-49c2-8ef2-8c5f394b6fcd"
      },
      "source": [
        "\n",
        "# DANE'S CODE:\n",
        "# %matplotlib inline\n",
        "# plt.style.use('ggplot')\n",
        "# x = ['R', 'H', '2B', '3B', 'HR', 'RBI', 'BB', 'SO', 'SH', 'AVG', 'PO', 'A', 'E', 'DP', 'award_count']\n",
        "# y = importances\n",
        "# x_pos = [i for i, _ in enumerate(x)]\n",
        "\n",
        "# plt.bar(x_pos, importances, color='green')\n",
        "# plt.xlabel('Features Importance')\n",
        "# plt.show()\n",
        "\n",
        "# NICK's comments\n",
        "# would like to investigate how to auto generate x list instead of manually entering\n",
        "# Need to label x ticks\n",
        "# would like to reorder, largest to smallest\n",
        "\n",
        "# TRY THIS CODE:\n",
        "%matplotlib inline\n",
        "plt.style.use('ggplot')\n",
        "x = [lis[-1] for lis in importances]\n",
        "y = [lis[0] for lis in importances]\n",
        "x_pos = [i for i, _ in enumerate(x)]\n",
        "\n",
        "plt.bar(x_pos, y, color='green')\n",
        "plt.title('Features Importance')\n",
        "plt.xlabel('Features')\n",
        "plt.ylabel('Importance [%]')\n",
        "\n",
        "plt.xticks(x_pos,x,rotation=90,ha='center')\n",
        "plt.show()"
      ],
      "execution_count": null,
      "outputs": [
        {
          "output_type": "display_data",
          "data": {
            "image/png": "[encoded data removed]",
            "text/plain": [
              "<Figure size 432x288 with 1 Axes>"
            ]
          },
          "metadata": {
            "tags": []
          }
        }
      ]
    },
    {
      "cell_type": "markdown",
      "metadata": {
        "id": "3L7UpCl3vDLa"
      },
      "source": [
        "## Investigate Predictions"
      ]
    },
    {
      "cell_type": "code",
      "metadata": {
        "id": "U4DAzzg3vDLa"
      },
      "source": [
        "clf = RandomForestClassifier(n_estimators=100)\n",
        "clf.fit(X_train,y_train)\n",
        "y_pred = clf.predict(X_test)"
      ],
      "execution_count": null,
      "outputs": []
    },
    {
      "cell_type": "code",
      "metadata": {
        "id": "hEpriCpnvDLb",
        "outputId": "143e0b9a-ffa5-4462-a97d-0d374468390b"
      },
      "source": [
        "print (X_test) #test dataset (without the actual outcome)\n",
        "print (y_pred) #predicted values"
      ],
      "execution_count": null,
      "outputs": [
        {
          "output_type": "stream",
          "text": [
            "        R     H   2B  3B   HR     RBI    BB     SO     SH   GIDP       AVG  \\\n",
            "549    82   187   35   4    4    79.0    46  317.0  135.0   11.0  0.167713   \n",
            "543    45   112   15   1    1    50.0    47  145.0   63.0   17.0  0.184211   \n",
            "537     0     1    0   0    0     1.0     1    1.0    0.0    0.0  0.166667   \n",
            "563  1232  2848  482  68  268  1357.0   860  990.0  101.0  297.0  0.267317   \n",
            "308    42    92   18   0    4    49.0    44  243.0  117.0    6.0  0.122995   \n",
            "..    ...   ...  ...  ..  ...     ...   ...    ...    ...    ...       ...   \n",
            "4       3     7    2   0    0     4.0     1   51.0   10.0    1.0  0.076087   \n",
            "457   940  2091  484  66  191  1097.0   648  779.0   28.0  186.0  0.289692   \n",
            "620  1074  2472  483  47  248  1389.0   855  694.0   11.0  287.0  0.284793   \n",
            "627  1257  2460  402  69   28   793.0  1072  589.0  214.0  167.0  0.261814   \n",
            "431    32    57    3   0    0    23.0    57  217.0   41.0    7.0  0.129252   \n",
            "\n",
            "        PO     A      E    DP  award_count  \n",
            "549    328   667   29.0    39            4  \n",
            "543     84   259    8.0    20            6  \n",
            "537     97   264   13.0    22           10  \n",
            "563   2712  6220  264.0   621           32  \n",
            "308    165   373   16.0    21            1  \n",
            "..     ...   ...    ...   ...          ...  \n",
            "4       65   167    8.0    20            1  \n",
            "457    887    84   41.0    18            4  \n",
            "620  10544  1092  169.0   248            4  \n",
            "627   4249  8375  281.0  1590           23  \n",
            "431     68   346   21.0    14            2  \n",
            "\n",
            "[187 rows x 16 columns]\n",
            "[1 0 1 1 0 0 0 1 1 1 0 1 1 0 0 1 0 0 0 0 0 0 1 0 0 0 0 0 0 0 0 0 1 0 0 0 1\n",
            " 1 0 1 0 0 0 0 0 0 0 0 1 1 0 0 0 0 0 0 0 0 0 0 1 0 0 0 0 0 0 0 0 1 0 0 0 0\n",
            " 0 1 0 1 0 0 0 0 0 0 0 0 1 0 1 1 1 0 0 1 1 0 0 0 0 0 0 0 1 1 0 1 0 0 0 0 0\n",
            " 0 1 1 0 1 0 0 0 0 0 0 0 0 0 0 0 0 0 0 0 0 0 0 0 1 0 1 0 1 0 0 0 0 1 1 0 1\n",
            " 0 0 0 0 0 0 0 0 0 1 0 1 0 0 0 0 1 0 0 0 0 0 0 1 0 0 0 0 1 0 0 0 0 0 0 0 0\n",
            " 1 0]\n"
          ],
          "name": "stdout"
        }
      ]
    },
    {
      "cell_type": "code",
      "metadata": {
        "id": "ygB5hWDsvDLe",
        "outputId": "272ac289-4326-4ff7-ed6c-be1f8886fc9b"
      },
      "source": [
        "df2"
      ],
      "execution_count": null,
      "outputs": [
        {
          "output_type": "execute_result",
          "data": {
            "text/html": [
              "<div>\n",
              "<style scoped>\n",
              "    .dataframe tbody tr th:only-of-type {\n",
              "        vertical-align: middle;\n",
              "    }\n",
              "\n",
              "    .dataframe tbody tr th {\n",
              "        vertical-align: top;\n",
              "    }\n",
              "\n",
              "    .dataframe thead th {\n",
              "        text-align: right;\n",
              "    }\n",
              "</style>\n",
              "<table border=\"1\" class=\"dataframe\">\n",
              "  <thead>\n",
              "    <tr style=\"text-align: right;\">\n",
              "      <th></th>\n",
              "      <th>playerID</th>\n",
              "      <th>inducted</th>\n",
              "      <th>R</th>\n",
              "      <th>H</th>\n",
              "      <th>2B</th>\n",
              "      <th>3B</th>\n",
              "      <th>HR</th>\n",
              "      <th>RBI</th>\n",
              "      <th>SB</th>\n",
              "      <th>CS</th>\n",
              "      <th>...</th>\n",
              "      <th>IBB</th>\n",
              "      <th>SH</th>\n",
              "      <th>SF</th>\n",
              "      <th>GIDP</th>\n",
              "      <th>AVG</th>\n",
              "      <th>PO</th>\n",
              "      <th>A</th>\n",
              "      <th>E</th>\n",
              "      <th>DP</th>\n",
              "      <th>award_count</th>\n",
              "    </tr>\n",
              "  </thead>\n",
              "  <tbody>\n",
              "    <tr>\n",
              "      <th>0</th>\n",
              "      <td>aaronha01</td>\n",
              "      <td>1</td>\n",
              "      <td>2174</td>\n",
              "      <td>3771</td>\n",
              "      <td>624</td>\n",
              "      <td>98</td>\n",
              "      <td>755</td>\n",
              "      <td>2297.0</td>\n",
              "      <td>240.0</td>\n",
              "      <td>73.0</td>\n",
              "      <td>...</td>\n",
              "      <td>293.0</td>\n",
              "      <td>21.0</td>\n",
              "      <td>121.0</td>\n",
              "      <td>328.0</td>\n",
              "      <td>0.304998</td>\n",
              "      <td>7436</td>\n",
              "      <td>429</td>\n",
              "      <td>144.0</td>\n",
              "      <td>218</td>\n",
              "      <td>16</td>\n",
              "    </tr>\n",
              "    <tr>\n",
              "      <th>1</th>\n",
              "      <td>abbotji01</td>\n",
              "      <td>0</td>\n",
              "      <td>0</td>\n",
              "      <td>2</td>\n",
              "      <td>0</td>\n",
              "      <td>0</td>\n",
              "      <td>0</td>\n",
              "      <td>3.0</td>\n",
              "      <td>0.0</td>\n",
              "      <td>0.0</td>\n",
              "      <td>...</td>\n",
              "      <td>0.0</td>\n",
              "      <td>3.0</td>\n",
              "      <td>0.0</td>\n",
              "      <td>0.0</td>\n",
              "      <td>0.095238</td>\n",
              "      <td>72</td>\n",
              "      <td>300</td>\n",
              "      <td>9.0</td>\n",
              "      <td>16</td>\n",
              "      <td>2</td>\n",
              "    </tr>\n",
              "    <tr>\n",
              "      <th>2</th>\n",
              "      <td>adamsba01</td>\n",
              "      <td>0</td>\n",
              "      <td>79</td>\n",
              "      <td>216</td>\n",
              "      <td>31</td>\n",
              "      <td>15</td>\n",
              "      <td>3</td>\n",
              "      <td>75.0</td>\n",
              "      <td>1.0</td>\n",
              "      <td>1.0</td>\n",
              "      <td>...</td>\n",
              "      <td>0.0</td>\n",
              "      <td>35.0</td>\n",
              "      <td>0.0</td>\n",
              "      <td>0.0</td>\n",
              "      <td>0.211973</td>\n",
              "      <td>58</td>\n",
              "      <td>648</td>\n",
              "      <td>17.0</td>\n",
              "      <td>17</td>\n",
              "      <td>2</td>\n",
              "    </tr>\n",
              "    <tr>\n",
              "      <th>3</th>\n",
              "      <td>ageeto01</td>\n",
              "      <td>0</td>\n",
              "      <td>558</td>\n",
              "      <td>999</td>\n",
              "      <td>170</td>\n",
              "      <td>27</td>\n",
              "      <td>130</td>\n",
              "      <td>433.0</td>\n",
              "      <td>167.0</td>\n",
              "      <td>81.0</td>\n",
              "      <td>...</td>\n",
              "      <td>26.0</td>\n",
              "      <td>21.0</td>\n",
              "      <td>15.0</td>\n",
              "      <td>99.0</td>\n",
              "      <td>0.255368</td>\n",
              "      <td>2371</td>\n",
              "      <td>53</td>\n",
              "      <td>61.0</td>\n",
              "      <td>18</td>\n",
              "      <td>3</td>\n",
              "    </tr>\n",
              "    <tr>\n",
              "      <th>4</th>\n",
              "      <td>akerja01</td>\n",
              "      <td>0</td>\n",
              "      <td>3</td>\n",
              "      <td>7</td>\n",
              "      <td>2</td>\n",
              "      <td>0</td>\n",
              "      <td>0</td>\n",
              "      <td>4.0</td>\n",
              "      <td>0.0</td>\n",
              "      <td>0.0</td>\n",
              "      <td>...</td>\n",
              "      <td>0.0</td>\n",
              "      <td>10.0</td>\n",
              "      <td>0.0</td>\n",
              "      <td>1.0</td>\n",
              "      <td>0.076087</td>\n",
              "      <td>65</td>\n",
              "      <td>167</td>\n",
              "      <td>8.0</td>\n",
              "      <td>20</td>\n",
              "      <td>1</td>\n",
              "    </tr>\n",
              "    <tr>\n",
              "      <th>...</th>\n",
              "      <td>...</td>\n",
              "      <td>...</td>\n",
              "      <td>...</td>\n",
              "      <td>...</td>\n",
              "      <td>...</td>\n",
              "      <td>...</td>\n",
              "      <td>...</td>\n",
              "      <td>...</td>\n",
              "      <td>...</td>\n",
              "      <td>...</td>\n",
              "      <td>...</td>\n",
              "      <td>...</td>\n",
              "      <td>...</td>\n",
              "      <td>...</td>\n",
              "      <td>...</td>\n",
              "      <td>...</td>\n",
              "      <td>...</td>\n",
              "      <td>...</td>\n",
              "      <td>...</td>\n",
              "      <td>...</td>\n",
              "      <td>...</td>\n",
              "    </tr>\n",
              "    <tr>\n",
              "      <th>746</th>\n",
              "      <td>yountro01</td>\n",
              "      <td>1</td>\n",
              "      <td>1632</td>\n",
              "      <td>3142</td>\n",
              "      <td>583</td>\n",
              "      <td>126</td>\n",
              "      <td>251</td>\n",
              "      <td>1406.0</td>\n",
              "      <td>271.0</td>\n",
              "      <td>105.0</td>\n",
              "      <td>...</td>\n",
              "      <td>95.0</td>\n",
              "      <td>104.0</td>\n",
              "      <td>123.0</td>\n",
              "      <td>217.0</td>\n",
              "      <td>0.285429</td>\n",
              "      <td>5855</td>\n",
              "      <td>4850</td>\n",
              "      <td>305.0</td>\n",
              "      <td>963</td>\n",
              "      <td>12</td>\n",
              "    </tr>\n",
              "    <tr>\n",
              "      <th>747</th>\n",
              "      <td>zachrpa01</td>\n",
              "      <td>0</td>\n",
              "      <td>9</td>\n",
              "      <td>36</td>\n",
              "      <td>0</td>\n",
              "      <td>0</td>\n",
              "      <td>0</td>\n",
              "      <td>6.0</td>\n",
              "      <td>0.0</td>\n",
              "      <td>0.0</td>\n",
              "      <td>...</td>\n",
              "      <td>0.0</td>\n",
              "      <td>33.0</td>\n",
              "      <td>2.0</td>\n",
              "      <td>11.0</td>\n",
              "      <td>0.113208</td>\n",
              "      <td>60</td>\n",
              "      <td>176</td>\n",
              "      <td>13.0</td>\n",
              "      <td>19</td>\n",
              "      <td>1</td>\n",
              "    </tr>\n",
              "    <tr>\n",
              "      <th>748</th>\n",
              "      <td>zahnge01</td>\n",
              "      <td>0</td>\n",
              "      <td>3</td>\n",
              "      <td>6</td>\n",
              "      <td>0</td>\n",
              "      <td>0</td>\n",
              "      <td>0</td>\n",
              "      <td>1.0</td>\n",
              "      <td>0.0</td>\n",
              "      <td>0.0</td>\n",
              "      <td>...</td>\n",
              "      <td>0.0</td>\n",
              "      <td>10.0</td>\n",
              "      <td>0.0</td>\n",
              "      <td>1.0</td>\n",
              "      <td>0.139535</td>\n",
              "      <td>87</td>\n",
              "      <td>326</td>\n",
              "      <td>24.0</td>\n",
              "      <td>19</td>\n",
              "      <td>1</td>\n",
              "    </tr>\n",
              "    <tr>\n",
              "      <th>749</th>\n",
              "      <td>zambrca01</td>\n",
              "      <td>0</td>\n",
              "      <td>75</td>\n",
              "      <td>165</td>\n",
              "      <td>26</td>\n",
              "      <td>3</td>\n",
              "      <td>24</td>\n",
              "      <td>71.0</td>\n",
              "      <td>1.0</td>\n",
              "      <td>0.0</td>\n",
              "      <td>...</td>\n",
              "      <td>0.0</td>\n",
              "      <td>37.0</td>\n",
              "      <td>4.0</td>\n",
              "      <td>14.0</td>\n",
              "      <td>0.238095</td>\n",
              "      <td>168</td>\n",
              "      <td>290</td>\n",
              "      <td>25.0</td>\n",
              "      <td>29</td>\n",
              "      <td>3</td>\n",
              "    </tr>\n",
              "    <tr>\n",
              "      <th>750</th>\n",
              "      <td>ziskri01</td>\n",
              "      <td>0</td>\n",
              "      <td>681</td>\n",
              "      <td>1477</td>\n",
              "      <td>245</td>\n",
              "      <td>26</td>\n",
              "      <td>207</td>\n",
              "      <td>792.0</td>\n",
              "      <td>8.0</td>\n",
              "      <td>15.0</td>\n",
              "      <td>...</td>\n",
              "      <td>52.0</td>\n",
              "      <td>7.0</td>\n",
              "      <td>41.0</td>\n",
              "      <td>138.0</td>\n",
              "      <td>0.287131</td>\n",
              "      <td>1680</td>\n",
              "      <td>68</td>\n",
              "      <td>33.0</td>\n",
              "      <td>20</td>\n",
              "      <td>2</td>\n",
              "    </tr>\n",
              "  </tbody>\n",
              "</table>\n",
              "<p>746 rows × 22 columns</p>\n",
              "</div>"
            ],
            "text/plain": [
              "      playerID  inducted     R     H   2B   3B   HR     RBI     SB     CS  \\\n",
              "0    aaronha01         1  2174  3771  624   98  755  2297.0  240.0   73.0   \n",
              "1    abbotji01         0     0     2    0    0    0     3.0    0.0    0.0   \n",
              "2    adamsba01         0    79   216   31   15    3    75.0    1.0    1.0   \n",
              "3     ageeto01         0   558   999  170   27  130   433.0  167.0   81.0   \n",
              "4     akerja01         0     3     7    2    0    0     4.0    0.0    0.0   \n",
              "..         ...       ...   ...   ...  ...  ...  ...     ...    ...    ...   \n",
              "746  yountro01         1  1632  3142  583  126  251  1406.0  271.0  105.0   \n",
              "747  zachrpa01         0     9    36    0    0    0     6.0    0.0    0.0   \n",
              "748   zahnge01         0     3     6    0    0    0     1.0    0.0    0.0   \n",
              "749  zambrca01         0    75   165   26    3   24    71.0    1.0    0.0   \n",
              "750   ziskri01         0   681  1477  245   26  207   792.0    8.0   15.0   \n",
              "\n",
              "     ...    IBB     SH     SF   GIDP       AVG    PO     A      E   DP  \\\n",
              "0    ...  293.0   21.0  121.0  328.0  0.304998  7436   429  144.0  218   \n",
              "1    ...    0.0    3.0    0.0    0.0  0.095238    72   300    9.0   16   \n",
              "2    ...    0.0   35.0    0.0    0.0  0.211973    58   648   17.0   17   \n",
              "3    ...   26.0   21.0   15.0   99.0  0.255368  2371    53   61.0   18   \n",
              "4    ...    0.0   10.0    0.0    1.0  0.076087    65   167    8.0   20   \n",
              "..   ...    ...    ...    ...    ...       ...   ...   ...    ...  ...   \n",
              "746  ...   95.0  104.0  123.0  217.0  0.285429  5855  4850  305.0  963   \n",
              "747  ...    0.0   33.0    2.0   11.0  0.113208    60   176   13.0   19   \n",
              "748  ...    0.0   10.0    0.0    1.0  0.139535    87   326   24.0   19   \n",
              "749  ...    0.0   37.0    4.0   14.0  0.238095   168   290   25.0   29   \n",
              "750  ...   52.0    7.0   41.0  138.0  0.287131  1680    68   33.0   20   \n",
              "\n",
              "     award_count  \n",
              "0             16  \n",
              "1              2  \n",
              "2              2  \n",
              "3              3  \n",
              "4              1  \n",
              "..           ...  \n",
              "746           12  \n",
              "747            1  \n",
              "748            1  \n",
              "749            3  \n",
              "750            2  \n",
              "\n",
              "[746 rows x 22 columns]"
            ]
          },
          "metadata": {
            "tags": []
          },
          "execution_count": 40
        }
      ]
    },
    {
      "cell_type": "code",
      "metadata": {
        "id": "Sp5YI6PEvDLf",
        "outputId": "1331d58f-d0fa-4c2d-bde2-f1b9dda4a23d"
      },
      "source": [
        "df3 = pd.merge(X_test, df2.inducted, how=\"inner\", left_index=True, right_index=True)\n",
        "df3"
      ],
      "execution_count": null,
      "outputs": [
        {
          "output_type": "execute_result",
          "data": {
            "text/html": [
              "<div>\n",
              "<style scoped>\n",
              "    .dataframe tbody tr th:only-of-type {\n",
              "        vertical-align: middle;\n",
              "    }\n",
              "\n",
              "    .dataframe tbody tr th {\n",
              "        vertical-align: top;\n",
              "    }\n",
              "\n",
              "    .dataframe thead th {\n",
              "        text-align: right;\n",
              "    }\n",
              "</style>\n",
              "<table border=\"1\" class=\"dataframe\">\n",
              "  <thead>\n",
              "    <tr style=\"text-align: right;\">\n",
              "      <th></th>\n",
              "      <th>R</th>\n",
              "      <th>H</th>\n",
              "      <th>2B</th>\n",
              "      <th>3B</th>\n",
              "      <th>HR</th>\n",
              "      <th>RBI</th>\n",
              "      <th>BB</th>\n",
              "      <th>SO</th>\n",
              "      <th>SH</th>\n",
              "      <th>GIDP</th>\n",
              "      <th>AVG</th>\n",
              "      <th>PO</th>\n",
              "      <th>A</th>\n",
              "      <th>E</th>\n",
              "      <th>DP</th>\n",
              "      <th>award_count</th>\n",
              "      <th>inducted</th>\n",
              "    </tr>\n",
              "  </thead>\n",
              "  <tbody>\n",
              "    <tr>\n",
              "      <th>549</th>\n",
              "      <td>82</td>\n",
              "      <td>187</td>\n",
              "      <td>35</td>\n",
              "      <td>4</td>\n",
              "      <td>4</td>\n",
              "      <td>79.0</td>\n",
              "      <td>46</td>\n",
              "      <td>317.0</td>\n",
              "      <td>135.0</td>\n",
              "      <td>11.0</td>\n",
              "      <td>0.167713</td>\n",
              "      <td>328</td>\n",
              "      <td>667</td>\n",
              "      <td>29.0</td>\n",
              "      <td>39</td>\n",
              "      <td>4</td>\n",
              "      <td>0</td>\n",
              "    </tr>\n",
              "    <tr>\n",
              "      <th>543</th>\n",
              "      <td>45</td>\n",
              "      <td>112</td>\n",
              "      <td>15</td>\n",
              "      <td>1</td>\n",
              "      <td>1</td>\n",
              "      <td>50.0</td>\n",
              "      <td>47</td>\n",
              "      <td>145.0</td>\n",
              "      <td>63.0</td>\n",
              "      <td>17.0</td>\n",
              "      <td>0.184211</td>\n",
              "      <td>84</td>\n",
              "      <td>259</td>\n",
              "      <td>8.0</td>\n",
              "      <td>20</td>\n",
              "      <td>6</td>\n",
              "      <td>0</td>\n",
              "    </tr>\n",
              "    <tr>\n",
              "      <th>537</th>\n",
              "      <td>0</td>\n",
              "      <td>1</td>\n",
              "      <td>0</td>\n",
              "      <td>0</td>\n",
              "      <td>0</td>\n",
              "      <td>1.0</td>\n",
              "      <td>1</td>\n",
              "      <td>1.0</td>\n",
              "      <td>0.0</td>\n",
              "      <td>0.0</td>\n",
              "      <td>0.166667</td>\n",
              "      <td>97</td>\n",
              "      <td>264</td>\n",
              "      <td>13.0</td>\n",
              "      <td>22</td>\n",
              "      <td>10</td>\n",
              "      <td>0</td>\n",
              "    </tr>\n",
              "    <tr>\n",
              "      <th>563</th>\n",
              "      <td>1232</td>\n",
              "      <td>2848</td>\n",
              "      <td>482</td>\n",
              "      <td>68</td>\n",
              "      <td>268</td>\n",
              "      <td>1357.0</td>\n",
              "      <td>860</td>\n",
              "      <td>990.0</td>\n",
              "      <td>101.0</td>\n",
              "      <td>297.0</td>\n",
              "      <td>0.267317</td>\n",
              "      <td>2712</td>\n",
              "      <td>6220</td>\n",
              "      <td>264.0</td>\n",
              "      <td>621</td>\n",
              "      <td>32</td>\n",
              "      <td>1</td>\n",
              "    </tr>\n",
              "    <tr>\n",
              "      <th>308</th>\n",
              "      <td>42</td>\n",
              "      <td>92</td>\n",
              "      <td>18</td>\n",
              "      <td>0</td>\n",
              "      <td>4</td>\n",
              "      <td>49.0</td>\n",
              "      <td>44</td>\n",
              "      <td>243.0</td>\n",
              "      <td>117.0</td>\n",
              "      <td>6.0</td>\n",
              "      <td>0.122995</td>\n",
              "      <td>165</td>\n",
              "      <td>373</td>\n",
              "      <td>16.0</td>\n",
              "      <td>21</td>\n",
              "      <td>1</td>\n",
              "      <td>0</td>\n",
              "    </tr>\n",
              "    <tr>\n",
              "      <th>...</th>\n",
              "      <td>...</td>\n",
              "      <td>...</td>\n",
              "      <td>...</td>\n",
              "      <td>...</td>\n",
              "      <td>...</td>\n",
              "      <td>...</td>\n",
              "      <td>...</td>\n",
              "      <td>...</td>\n",
              "      <td>...</td>\n",
              "      <td>...</td>\n",
              "      <td>...</td>\n",
              "      <td>...</td>\n",
              "      <td>...</td>\n",
              "      <td>...</td>\n",
              "      <td>...</td>\n",
              "      <td>...</td>\n",
              "      <td>...</td>\n",
              "    </tr>\n",
              "    <tr>\n",
              "      <th>4</th>\n",
              "      <td>3</td>\n",
              "      <td>7</td>\n",
              "      <td>2</td>\n",
              "      <td>0</td>\n",
              "      <td>0</td>\n",
              "      <td>4.0</td>\n",
              "      <td>1</td>\n",
              "      <td>51.0</td>\n",
              "      <td>10.0</td>\n",
              "      <td>1.0</td>\n",
              "      <td>0.076087</td>\n",
              "      <td>65</td>\n",
              "      <td>167</td>\n",
              "      <td>8.0</td>\n",
              "      <td>20</td>\n",
              "      <td>1</td>\n",
              "      <td>0</td>\n",
              "    </tr>\n",
              "    <tr>\n",
              "      <th>457</th>\n",
              "      <td>940</td>\n",
              "      <td>2091</td>\n",
              "      <td>484</td>\n",
              "      <td>66</td>\n",
              "      <td>191</td>\n",
              "      <td>1097.0</td>\n",
              "      <td>648</td>\n",
              "      <td>779.0</td>\n",
              "      <td>28.0</td>\n",
              "      <td>186.0</td>\n",
              "      <td>0.289692</td>\n",
              "      <td>887</td>\n",
              "      <td>84</td>\n",
              "      <td>41.0</td>\n",
              "      <td>18</td>\n",
              "      <td>4</td>\n",
              "      <td>0</td>\n",
              "    </tr>\n",
              "    <tr>\n",
              "      <th>620</th>\n",
              "      <td>1074</td>\n",
              "      <td>2472</td>\n",
              "      <td>483</td>\n",
              "      <td>47</td>\n",
              "      <td>248</td>\n",
              "      <td>1389.0</td>\n",
              "      <td>855</td>\n",
              "      <td>694.0</td>\n",
              "      <td>11.0</td>\n",
              "      <td>287.0</td>\n",
              "      <td>0.284793</td>\n",
              "      <td>10544</td>\n",
              "      <td>1092</td>\n",
              "      <td>169.0</td>\n",
              "      <td>248</td>\n",
              "      <td>4</td>\n",
              "      <td>0</td>\n",
              "    </tr>\n",
              "    <tr>\n",
              "      <th>627</th>\n",
              "      <td>1257</td>\n",
              "      <td>2460</td>\n",
              "      <td>402</td>\n",
              "      <td>69</td>\n",
              "      <td>28</td>\n",
              "      <td>793.0</td>\n",
              "      <td>1072</td>\n",
              "      <td>589.0</td>\n",
              "      <td>214.0</td>\n",
              "      <td>167.0</td>\n",
              "      <td>0.261814</td>\n",
              "      <td>4249</td>\n",
              "      <td>8375</td>\n",
              "      <td>281.0</td>\n",
              "      <td>1590</td>\n",
              "      <td>23</td>\n",
              "      <td>1</td>\n",
              "    </tr>\n",
              "    <tr>\n",
              "      <th>431</th>\n",
              "      <td>32</td>\n",
              "      <td>57</td>\n",
              "      <td>3</td>\n",
              "      <td>0</td>\n",
              "      <td>0</td>\n",
              "      <td>23.0</td>\n",
              "      <td>57</td>\n",
              "      <td>217.0</td>\n",
              "      <td>41.0</td>\n",
              "      <td>7.0</td>\n",
              "      <td>0.129252</td>\n",
              "      <td>68</td>\n",
              "      <td>346</td>\n",
              "      <td>21.0</td>\n",
              "      <td>14</td>\n",
              "      <td>2</td>\n",
              "      <td>0</td>\n",
              "    </tr>\n",
              "  </tbody>\n",
              "</table>\n",
              "<p>187 rows × 17 columns</p>\n",
              "</div>"
            ],
            "text/plain": [
              "        R     H   2B  3B   HR     RBI    BB     SO     SH   GIDP       AVG  \\\n",
              "549    82   187   35   4    4    79.0    46  317.0  135.0   11.0  0.167713   \n",
              "543    45   112   15   1    1    50.0    47  145.0   63.0   17.0  0.184211   \n",
              "537     0     1    0   0    0     1.0     1    1.0    0.0    0.0  0.166667   \n",
              "563  1232  2848  482  68  268  1357.0   860  990.0  101.0  297.0  0.267317   \n",
              "308    42    92   18   0    4    49.0    44  243.0  117.0    6.0  0.122995   \n",
              "..    ...   ...  ...  ..  ...     ...   ...    ...    ...    ...       ...   \n",
              "4       3     7    2   0    0     4.0     1   51.0   10.0    1.0  0.076087   \n",
              "457   940  2091  484  66  191  1097.0   648  779.0   28.0  186.0  0.289692   \n",
              "620  1074  2472  483  47  248  1389.0   855  694.0   11.0  287.0  0.284793   \n",
              "627  1257  2460  402  69   28   793.0  1072  589.0  214.0  167.0  0.261814   \n",
              "431    32    57    3   0    0    23.0    57  217.0   41.0    7.0  0.129252   \n",
              "\n",
              "        PO     A      E    DP  award_count  inducted  \n",
              "549    328   667   29.0    39            4         0  \n",
              "543     84   259    8.0    20            6         0  \n",
              "537     97   264   13.0    22           10         0  \n",
              "563   2712  6220  264.0   621           32         1  \n",
              "308    165   373   16.0    21            1         0  \n",
              "..     ...   ...    ...   ...          ...       ...  \n",
              "4       65   167    8.0    20            1         0  \n",
              "457    887    84   41.0    18            4         0  \n",
              "620  10544  1092  169.0   248            4         0  \n",
              "627   4249  8375  281.0  1590           23         1  \n",
              "431     68   346   21.0    14            2         0  \n",
              "\n",
              "[187 rows x 17 columns]"
            ]
          },
          "metadata": {
            "tags": []
          },
          "execution_count": 41
        }
      ]
    },
    {
      "cell_type": "code",
      "metadata": {
        "id": "5TEUwfdbvDLg"
      },
      "source": [
        "df3[\"predicted\"] = y_pred"
      ],
      "execution_count": null,
      "outputs": []
    },
    {
      "cell_type": "code",
      "metadata": {
        "id": "zhZC5fUcvDLi",
        "outputId": "c70d5cd4-06e0-4036-8cbc-b668e1b95f64"
      },
      "source": [
        "df3"
      ],
      "execution_count": null,
      "outputs": [
        {
          "output_type": "execute_result",
          "data": {
            "text/html": [
              "<div>\n",
              "<style scoped>\n",
              "    .dataframe tbody tr th:only-of-type {\n",
              "        vertical-align: middle;\n",
              "    }\n",
              "\n",
              "    .dataframe tbody tr th {\n",
              "        vertical-align: top;\n",
              "    }\n",
              "\n",
              "    .dataframe thead th {\n",
              "        text-align: right;\n",
              "    }\n",
              "</style>\n",
              "<table border=\"1\" class=\"dataframe\">\n",
              "  <thead>\n",
              "    <tr style=\"text-align: right;\">\n",
              "      <th></th>\n",
              "      <th>R</th>\n",
              "      <th>H</th>\n",
              "      <th>2B</th>\n",
              "      <th>3B</th>\n",
              "      <th>HR</th>\n",
              "      <th>RBI</th>\n",
              "      <th>BB</th>\n",
              "      <th>SO</th>\n",
              "      <th>SH</th>\n",
              "      <th>GIDP</th>\n",
              "      <th>AVG</th>\n",
              "      <th>PO</th>\n",
              "      <th>A</th>\n",
              "      <th>E</th>\n",
              "      <th>DP</th>\n",
              "      <th>award_count</th>\n",
              "      <th>inducted</th>\n",
              "      <th>predicted</th>\n",
              "    </tr>\n",
              "  </thead>\n",
              "  <tbody>\n",
              "    <tr>\n",
              "      <th>549</th>\n",
              "      <td>82</td>\n",
              "      <td>187</td>\n",
              "      <td>35</td>\n",
              "      <td>4</td>\n",
              "      <td>4</td>\n",
              "      <td>79.0</td>\n",
              "      <td>46</td>\n",
              "      <td>317.0</td>\n",
              "      <td>135.0</td>\n",
              "      <td>11.0</td>\n",
              "      <td>0.167713</td>\n",
              "      <td>328</td>\n",
              "      <td>667</td>\n",
              "      <td>29.0</td>\n",
              "      <td>39</td>\n",
              "      <td>4</td>\n",
              "      <td>0</td>\n",
              "      <td>1</td>\n",
              "    </tr>\n",
              "    <tr>\n",
              "      <th>543</th>\n",
              "      <td>45</td>\n",
              "      <td>112</td>\n",
              "      <td>15</td>\n",
              "      <td>1</td>\n",
              "      <td>1</td>\n",
              "      <td>50.0</td>\n",
              "      <td>47</td>\n",
              "      <td>145.0</td>\n",
              "      <td>63.0</td>\n",
              "      <td>17.0</td>\n",
              "      <td>0.184211</td>\n",
              "      <td>84</td>\n",
              "      <td>259</td>\n",
              "      <td>8.0</td>\n",
              "      <td>20</td>\n",
              "      <td>6</td>\n",
              "      <td>0</td>\n",
              "      <td>0</td>\n",
              "    </tr>\n",
              "    <tr>\n",
              "      <th>537</th>\n",
              "      <td>0</td>\n",
              "      <td>1</td>\n",
              "      <td>0</td>\n",
              "      <td>0</td>\n",
              "      <td>0</td>\n",
              "      <td>1.0</td>\n",
              "      <td>1</td>\n",
              "      <td>1.0</td>\n",
              "      <td>0.0</td>\n",
              "      <td>0.0</td>\n",
              "      <td>0.166667</td>\n",
              "      <td>97</td>\n",
              "      <td>264</td>\n",
              "      <td>13.0</td>\n",
              "      <td>22</td>\n",
              "      <td>10</td>\n",
              "      <td>0</td>\n",
              "      <td>1</td>\n",
              "    </tr>\n",
              "    <tr>\n",
              "      <th>563</th>\n",
              "      <td>1232</td>\n",
              "      <td>2848</td>\n",
              "      <td>482</td>\n",
              "      <td>68</td>\n",
              "      <td>268</td>\n",
              "      <td>1357.0</td>\n",
              "      <td>860</td>\n",
              "      <td>990.0</td>\n",
              "      <td>101.0</td>\n",
              "      <td>297.0</td>\n",
              "      <td>0.267317</td>\n",
              "      <td>2712</td>\n",
              "      <td>6220</td>\n",
              "      <td>264.0</td>\n",
              "      <td>621</td>\n",
              "      <td>32</td>\n",
              "      <td>1</td>\n",
              "      <td>1</td>\n",
              "    </tr>\n",
              "    <tr>\n",
              "      <th>308</th>\n",
              "      <td>42</td>\n",
              "      <td>92</td>\n",
              "      <td>18</td>\n",
              "      <td>0</td>\n",
              "      <td>4</td>\n",
              "      <td>49.0</td>\n",
              "      <td>44</td>\n",
              "      <td>243.0</td>\n",
              "      <td>117.0</td>\n",
              "      <td>6.0</td>\n",
              "      <td>0.122995</td>\n",
              "      <td>165</td>\n",
              "      <td>373</td>\n",
              "      <td>16.0</td>\n",
              "      <td>21</td>\n",
              "      <td>1</td>\n",
              "      <td>0</td>\n",
              "      <td>0</td>\n",
              "    </tr>\n",
              "    <tr>\n",
              "      <th>...</th>\n",
              "      <td>...</td>\n",
              "      <td>...</td>\n",
              "      <td>...</td>\n",
              "      <td>...</td>\n",
              "      <td>...</td>\n",
              "      <td>...</td>\n",
              "      <td>...</td>\n",
              "      <td>...</td>\n",
              "      <td>...</td>\n",
              "      <td>...</td>\n",
              "      <td>...</td>\n",
              "      <td>...</td>\n",
              "      <td>...</td>\n",
              "      <td>...</td>\n",
              "      <td>...</td>\n",
              "      <td>...</td>\n",
              "      <td>...</td>\n",
              "      <td>...</td>\n",
              "    </tr>\n",
              "    <tr>\n",
              "      <th>4</th>\n",
              "      <td>3</td>\n",
              "      <td>7</td>\n",
              "      <td>2</td>\n",
              "      <td>0</td>\n",
              "      <td>0</td>\n",
              "      <td>4.0</td>\n",
              "      <td>1</td>\n",
              "      <td>51.0</td>\n",
              "      <td>10.0</td>\n",
              "      <td>1.0</td>\n",
              "      <td>0.076087</td>\n",
              "      <td>65</td>\n",
              "      <td>167</td>\n",
              "      <td>8.0</td>\n",
              "      <td>20</td>\n",
              "      <td>1</td>\n",
              "      <td>0</td>\n",
              "      <td>0</td>\n",
              "    </tr>\n",
              "    <tr>\n",
              "      <th>457</th>\n",
              "      <td>940</td>\n",
              "      <td>2091</td>\n",
              "      <td>484</td>\n",
              "      <td>66</td>\n",
              "      <td>191</td>\n",
              "      <td>1097.0</td>\n",
              "      <td>648</td>\n",
              "      <td>779.0</td>\n",
              "      <td>28.0</td>\n",
              "      <td>186.0</td>\n",
              "      <td>0.289692</td>\n",
              "      <td>887</td>\n",
              "      <td>84</td>\n",
              "      <td>41.0</td>\n",
              "      <td>18</td>\n",
              "      <td>4</td>\n",
              "      <td>0</td>\n",
              "      <td>0</td>\n",
              "    </tr>\n",
              "    <tr>\n",
              "      <th>620</th>\n",
              "      <td>1074</td>\n",
              "      <td>2472</td>\n",
              "      <td>483</td>\n",
              "      <td>47</td>\n",
              "      <td>248</td>\n",
              "      <td>1389.0</td>\n",
              "      <td>855</td>\n",
              "      <td>694.0</td>\n",
              "      <td>11.0</td>\n",
              "      <td>287.0</td>\n",
              "      <td>0.284793</td>\n",
              "      <td>10544</td>\n",
              "      <td>1092</td>\n",
              "      <td>169.0</td>\n",
              "      <td>248</td>\n",
              "      <td>4</td>\n",
              "      <td>0</td>\n",
              "      <td>0</td>\n",
              "    </tr>\n",
              "    <tr>\n",
              "      <th>627</th>\n",
              "      <td>1257</td>\n",
              "      <td>2460</td>\n",
              "      <td>402</td>\n",
              "      <td>69</td>\n",
              "      <td>28</td>\n",
              "      <td>793.0</td>\n",
              "      <td>1072</td>\n",
              "      <td>589.0</td>\n",
              "      <td>214.0</td>\n",
              "      <td>167.0</td>\n",
              "      <td>0.261814</td>\n",
              "      <td>4249</td>\n",
              "      <td>8375</td>\n",
              "      <td>281.0</td>\n",
              "      <td>1590</td>\n",
              "      <td>23</td>\n",
              "      <td>1</td>\n",
              "      <td>1</td>\n",
              "    </tr>\n",
              "    <tr>\n",
              "      <th>431</th>\n",
              "      <td>32</td>\n",
              "      <td>57</td>\n",
              "      <td>3</td>\n",
              "      <td>0</td>\n",
              "      <td>0</td>\n",
              "      <td>23.0</td>\n",
              "      <td>57</td>\n",
              "      <td>217.0</td>\n",
              "      <td>41.0</td>\n",
              "      <td>7.0</td>\n",
              "      <td>0.129252</td>\n",
              "      <td>68</td>\n",
              "      <td>346</td>\n",
              "      <td>21.0</td>\n",
              "      <td>14</td>\n",
              "      <td>2</td>\n",
              "      <td>0</td>\n",
              "      <td>0</td>\n",
              "    </tr>\n",
              "  </tbody>\n",
              "</table>\n",
              "<p>187 rows × 18 columns</p>\n",
              "</div>"
            ],
            "text/plain": [
              "        R     H   2B  3B   HR     RBI    BB     SO     SH   GIDP       AVG  \\\n",
              "549    82   187   35   4    4    79.0    46  317.0  135.0   11.0  0.167713   \n",
              "543    45   112   15   1    1    50.0    47  145.0   63.0   17.0  0.184211   \n",
              "537     0     1    0   0    0     1.0     1    1.0    0.0    0.0  0.166667   \n",
              "563  1232  2848  482  68  268  1357.0   860  990.0  101.0  297.0  0.267317   \n",
              "308    42    92   18   0    4    49.0    44  243.0  117.0    6.0  0.122995   \n",
              "..    ...   ...  ...  ..  ...     ...   ...    ...    ...    ...       ...   \n",
              "4       3     7    2   0    0     4.0     1   51.0   10.0    1.0  0.076087   \n",
              "457   940  2091  484  66  191  1097.0   648  779.0   28.0  186.0  0.289692   \n",
              "620  1074  2472  483  47  248  1389.0   855  694.0   11.0  287.0  0.284793   \n",
              "627  1257  2460  402  69   28   793.0  1072  589.0  214.0  167.0  0.261814   \n",
              "431    32    57    3   0    0    23.0    57  217.0   41.0    7.0  0.129252   \n",
              "\n",
              "        PO     A      E    DP  award_count  inducted  predicted  \n",
              "549    328   667   29.0    39            4         0          1  \n",
              "543     84   259    8.0    20            6         0          0  \n",
              "537     97   264   13.0    22           10         0          1  \n",
              "563   2712  6220  264.0   621           32         1          1  \n",
              "308    165   373   16.0    21            1         0          0  \n",
              "..     ...   ...    ...   ...          ...       ...        ...  \n",
              "4       65   167    8.0    20            1         0          0  \n",
              "457    887    84   41.0    18            4         0          0  \n",
              "620  10544  1092  169.0   248            4         0          0  \n",
              "627   4249  8375  281.0  1590           23         1          1  \n",
              "431     68   346   21.0    14            2         0          0  \n",
              "\n",
              "[187 rows x 18 columns]"
            ]
          },
          "metadata": {
            "tags": []
          },
          "execution_count": 43
        }
      ]
    },
    {
      "cell_type": "code",
      "metadata": {
        "scrolled": false,
        "id": "w9c8nvjDvDLk",
        "outputId": "00a03e8b-d02d-4f10-9f65-4e00069e741b"
      },
      "source": [
        "#perform a prediction\n",
        "clf = RandomForestClassifier(n_estimators=100)\n",
        "clf.fit(X_train,y_train)\n",
        "y_pred = clf.predict(X_test)\n",
        "\n",
        "prediction = clf.predict([[600,1500,500,100, 200, 1300, 400, 500, 100, 40, 0.3, 4000, 140, 80, 30, 20]])\n",
        "print ('Predicted Result: ', prediction)"
      ],
      "execution_count": null,
      "outputs": [
        {
          "output_type": "stream",
          "text": [
            "Predicted Result:  [1]\n"
          ],
          "name": "stdout"
        }
      ]
    },
    {
      "cell_type": "markdown",
      "metadata": {
        "id": "oW_yXI4OvDLl"
      },
      "source": [
        "# Build Interactive User Input"
      ]
    },
    {
      "cell_type": "code",
      "metadata": {
        "id": "wbjB3R0GvDLl",
        "outputId": "a5361a47-f6a7-4001-e26a-d38af92ab247"
      },
      "source": [
        "import tkinter as tk\n",
        "# tkinter GUI\n",
        "root= tk.Tk()\n",
        "\n",
        "canvas1 = tk.Canvas(root, width = 500, height = 1400)\n",
        "canvas1.pack()\n",
        "\n",
        "# R input\n",
        "label1 = tk.Label(root, text='R:')\n",
        "canvas1.create_window(100, 100, window=label1)\n",
        "\n",
        "entry1 = tk.Entry (root)\n",
        "canvas1.create_window(270, 100, window=entry1)\n",
        "\n",
        "# H input\n",
        "label2 = tk.Label(root, text='H:     ')\n",
        "canvas1.create_window(120, 120, window=label2)\n",
        "\n",
        "entry2 = tk.Entry (root)\n",
        "canvas1.create_window(270, 120, window=entry2)\n",
        "\n",
        "# 2B input\n",
        "label3 = tk.Label(root, text='2B: ')\n",
        "canvas1.create_window(140, 140, window=label3)\n",
        "\n",
        "entry3 = tk.Entry (root)\n",
        "canvas1.create_window(270, 140, window=entry3)\n",
        "\n",
        "# 3B input\n",
        "label4 = tk.Label(root, text='3B:  ')\n",
        "canvas1.create_window(160, 160, window=label4)\n",
        "\n",
        "entry4 = tk.Entry (root)\n",
        "canvas1.create_window(270, 160, window=entry4)\n",
        "\n",
        "# HR input\n",
        "label5 = tk.Label(root, text='HR:  ')\n",
        "canvas1.create_window(180, 180, window=label5)\n",
        "\n",
        "entry5 = tk.Entry (root)\n",
        "canvas1.create_window(270, 180, window=entry5)\n",
        "\n",
        "# RBI input\n",
        "label6 = tk.Label(root, text='RBI:  ')\n",
        "canvas1.create_window(200, 200, window=label6)\n",
        "\n",
        "entry6 = tk.Entry (root)\n",
        "canvas1.create_window(270, 200, window=entry6)\n",
        "\n",
        "# BB input\n",
        "label7 = tk.Label(root, text='BB:  ')\n",
        "canvas1.create_window(220, 220, window=label7)\n",
        "\n",
        "entry7 = tk.Entry (root)\n",
        "canvas1.create_window(270, 220, window=entry7)\n",
        "\n",
        "# SO input\n",
        "label8 = tk.Label(root, text='SO:  ')\n",
        "canvas1.create_window(240, 240, window=label8)\n",
        "\n",
        "entry8 = tk.Entry (root)\n",
        "canvas1.create_window(270, 240, window=entry8)\n",
        "\n",
        "# SH input\n",
        "label9 = tk.Label(root, text='SH:  ')\n",
        "canvas1.create_window(260, 260, window=label9)\n",
        "\n",
        "entry9 = tk.Entry (root)\n",
        "canvas1.create_window(270, 260, window=entry9)\n",
        "\n",
        "# GIDP input\n",
        "label10 = tk.Label(root, text='GIDP:  ')\n",
        "canvas1.create_window(280, 280, window=label10)\n",
        "\n",
        "entry10 = tk.Entry (root)\n",
        "canvas1.create_window(270, 280, window=entry10)\n",
        "\n",
        "# AVG input\n",
        "label11 = tk.Label(root, text='AVG:  ')\n",
        "canvas1.create_window(300, 300, window=label11)\n",
        "\n",
        "entry11 = tk.Entry (root)\n",
        "canvas1.create_window(270, 300, window=entry11)\n",
        "\n",
        "# PO input\n",
        "label12 = tk.Label(root, text='PO:  ')\n",
        "canvas1.create_window(320, 320, window=label12)\n",
        "\n",
        "entry12 = tk.Entry (root)\n",
        "canvas1.create_window(270, 320, window=entry12)\n",
        "\n",
        "# A input\n",
        "label13 = tk.Label(root, text='A:  ')\n",
        "canvas1.create_window(340, 340, window=label13)\n",
        "\n",
        "entry13 = tk.Entry (root)\n",
        "canvas1.create_window(270, 340, window=entry13)\n",
        "\n",
        "# E input\n",
        "label14 = tk.Label(root, text='E:  ')\n",
        "canvas1.create_window(360, 360, window=label14)\n",
        "\n",
        "entry14 = tk.Entry (root)\n",
        "canvas1.create_window(270, 360, window=entry14)\n",
        "\n",
        "# DP input\n",
        "label15 = tk.Label(root, text='DP:  ')\n",
        "canvas1.create_window(380, 380, window=label15)\n",
        "\n",
        "entry15 = tk.Entry (root)\n",
        "canvas1.create_window(270, 380, window=entry15)\n",
        "\n",
        "# award_count input\n",
        "label16 = tk.Label(root, text='award_count:  ')\n",
        "canvas1.create_window(400, 400, window=label16)\n",
        "\n",
        "entry16 = tk.Entry (root)\n",
        "canvas1.create_window(270, 400, window=entry16)\n",
        "\n",
        "# inducted input\n",
        "label17 = tk.Label(root, text='inducted:  ')\n",
        "canvas1.create_window(420, 420, window=label17)\n",
        "\n",
        "entry17 = tk.Entry (root)\n",
        "canvas1.create_window(270, 420, window=entry17)\n",
        "\n",
        "\n",
        "def values(): \n",
        "    global R\n",
        "    R = float(entry1.get()) \n",
        "    \n",
        "    global H\n",
        "    H = float(entry2.get()) \n",
        "    \n",
        "    global Double\n",
        "    Double = float(entry3.get()) \n",
        "    \n",
        "    global Triple\n",
        "    Triple = float(entry4.get())\n",
        "\n",
        "    global HR\n",
        "    HR = float(entry5.get())\n",
        "\n",
        "    global RBI\n",
        "    RBI = float(entry6.get())\n",
        "\n",
        "    global BB\n",
        "    BB = float(entry7.get())\n",
        "\n",
        "    global SO\n",
        "    SO = float(entry8.get()) \n",
        "\n",
        "    global SH\n",
        "    SH = float(entry9.get())\n",
        "\n",
        "    global GIDP\n",
        "    GIDP = float(entry10.get())\n",
        "\n",
        "    global AVG\n",
        "    AVG = float(entry11.get()) \n",
        "\n",
        "    global PO\n",
        "    PO = float(entry12.get())\n",
        "\n",
        "    global A\n",
        "    A = float(entry13.get())\n",
        "\n",
        "    global E\n",
        "    E = float(entry14.get())\n",
        "\n",
        "    global DP\n",
        "    DP = float(entry15.get()) \n",
        "\n",
        "    global award_count\n",
        "    award_count = float(entry16.get())\n",
        "\n",
        "    global inducted\n",
        "    inducted = float(entry17.get())           \n",
        "    \n",
        "    Prediction_result  = ('  Predicted Result: ', clf.predict([[R, H, Double, Triple, HR, RBI, BB, SO, SH, GIDP, AVG, PO, A, E, DP, award_count, inducted ]]))\n",
        "    label_Prediction = tk.Label(root, text= Prediction_result, bg='sky blue')\n",
        "    canvas1.create_window(270, 280, window=label_Prediction)\n",
        "    \n",
        "button1 = tk.Button (root, text='      Predict      ',command=values, bg='green', fg='white', font=11)\n",
        "canvas1.create_window(270, 220, window=button1)\n",
        " \n",
        "root.mainloop()"
      ],
      "execution_count": null,
      "outputs": [
        {
          "output_type": "error",
          "ename": "SyntaxError",
          "evalue": "name 'SH' is assigned to before global declaration (<ipython-input-45-07f93c7ca086>, line 149)",
          "traceback": [
            "\u001b[1;36m  File \u001b[1;32m\"<ipython-input-45-07f93c7ca086>\"\u001b[1;36m, line \u001b[1;32m149\u001b[0m\n\u001b[1;33m    global AVG\u001b[0m\n\u001b[1;37m           ^\u001b[0m\n\u001b[1;31mSyntaxError\u001b[0m\u001b[1;31m:\u001b[0m name 'SH' is assigned to before global declaration\n"
          ]
        }
      ]
    },
    {
      "cell_type": "code",
      "metadata": {
        "id": "Vnwh-yipvDLn"
      },
      "source": [
        ""
      ],
      "execution_count": null,
      "outputs": []
    },
    {
      "cell_type": "code",
      "metadata": {
        "id": "TB9kf-TqvDLo"
      },
      "source": [
        ""
      ],
      "execution_count": null,
      "outputs": []
    },
    {
      "cell_type": "code",
      "metadata": {
        "id": "XAi4d5TdvDLp"
      },
      "source": [
        ""
      ],
      "execution_count": null,
      "outputs": []
    },
    {
      "cell_type": "code",
      "metadata": {
        "id": "q01ae7DIvDLr"
      },
      "source": [
        ""
      ],
      "execution_count": null,
      "outputs": []
    }
  ]
}