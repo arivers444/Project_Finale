{
 "cells": [
  {
   "cell_type": "code",
   "execution_count": 1,
   "metadata": {
    "id": "hWDWY1rEhmCa"
   },
   "outputs": [],
   "source": [
    "# Initial imports.\n",
    "import pandas as pd\n",
    "from sklearn.ensemble import RandomForestClassifier\n",
    "from sklearn.preprocessing import StandardScaler\n",
    "from sklearn.model_selection import train_test_split\n",
    "from sklearn.metrics import confusion_matrix, accuracy_score, classification_report"
   ]
  },
  {
   "cell_type": "markdown",
   "metadata": {},
   "source": [
    "# Initial Trial with csv files"
   ]
  },
  {
   "cell_type": "code",
   "execution_count": 2,
   "metadata": {
    "colab": {
     "base_uri": "https://localhost:8080/",
     "height": 72,
     "resources": {
      "http://localhost:8080/nbextensions/google.colab/files.js": {
       "data": "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",
       "headers": [
        [
         "content-type",
         "application/javascript"
        ]
       ],
       "ok": true,
       "status": 200,
       "status_text": ""
      }
     }
    },
    "executionInfo": {
     "elapsed": 9129,
     "status": "ok",
     "timestamp": 1603760201689,
     "user": {
      "displayName": "Dane Whitted",
      "photoUrl": "https://lh3.googleusercontent.com/a-/AOh14GgWhthUV4IEa6Ya--IylEAejadzOAje8STbNFMZwIc=s64",
      "userId": "04447519044525334552"
     },
     "user_tz": 300
    },
    "id": "eFmpJNkYhr0v",
    "outputId": "4792c2ca-e5ce-4da6-c3ef-41393e27ebd0",
    "scrolled": true
   },
   "outputs": [],
   "source": [
    "# from google.colab import files \n",
    "# uploaded = files.upload()"
   ]
  },
  {
   "cell_type": "code",
   "execution_count": 3,
   "metadata": {
    "colab": {
     "base_uri": "https://localhost:8080/",
     "height": 204
    },
    "executionInfo": {
     "elapsed": 770,
     "status": "ok",
     "timestamp": 1603760228496,
     "user": {
      "displayName": "Dane Whitted",
      "photoUrl": "https://lh3.googleusercontent.com/a-/AOh14GgWhthUV4IEa6Ya--IylEAejadzOAje8STbNFMZwIc=s64",
      "userId": "04447519044525334552"
     },
     "user_tz": 300
    },
    "id": "Caon-Z0pi4j_",
    "outputId": "e617de91-cd31-44a5-9f20-55c0aff07ffe",
    "scrolled": true
   },
   "outputs": [],
   "source": [
    "# import io\n",
    "# df = pd.read_csv(io.BytesIO(uploaded['ml_BattingFielding.csv']))\n",
    "# df.head()\n",
    "# # Dataset is now stored in a Pandas Dataframe"
   ]
  },
  {
   "cell_type": "markdown",
   "metadata": {},
   "source": [
    "# Database Connection"
   ]
  },
  {
   "cell_type": "code",
   "execution_count": 4,
   "metadata": {},
   "outputs": [],
   "source": [
    "# dependencies\n",
    "import psycopg2\n",
    "from config import config"
   ]
  },
  {
   "cell_type": "code",
   "execution_count": 5,
   "metadata": {},
   "outputs": [],
   "source": [
    "# get parameters\n",
    "params = config()"
   ]
  },
  {
   "cell_type": "code",
   "execution_count": 6,
   "metadata": {},
   "outputs": [],
   "source": [
    "# connect to PostgreSQL database\n",
    "conn = psycopg2.connect(**params)\n",
    "\n",
    "# create a new cursor\n",
    "cur = conn.cursor()"
   ]
  },
  {
   "cell_type": "code",
   "execution_count": 7,
   "metadata": {
    "scrolled": true
   },
   "outputs": [],
   "source": [
    "# funcion to create a pandas df given parameters of: 1. SQL query 2. database connection\n",
    "def create_pandas_table(sql_query, database = conn):\n",
    "    table = pd.read_sql_query(sql_query, database)\n",
    "    return table"
   ]
  },
  {
   "cell_type": "code",
   "execution_count": 8,
   "metadata": {
    "scrolled": true
   },
   "outputs": [
    {
     "data": {
      "text/html": [
       "<div>\n",
       "<style scoped>\n",
       "    .dataframe tbody tr th:only-of-type {\n",
       "        vertical-align: middle;\n",
       "    }\n",
       "\n",
       "    .dataframe tbody tr th {\n",
       "        vertical-align: top;\n",
       "    }\n",
       "\n",
       "    .dataframe thead th {\n",
       "        text-align: right;\n",
       "    }\n",
       "</style>\n",
       "<table border=\"1\" class=\"dataframe\">\n",
       "  <thead>\n",
       "    <tr style=\"text-align: right;\">\n",
       "      <th></th>\n",
       "      <th>playerID</th>\n",
       "      <th>G</th>\n",
       "      <th>AB</th>\n",
       "      <th>R</th>\n",
       "      <th>H</th>\n",
       "      <th>2B</th>\n",
       "      <th>3B</th>\n",
       "      <th>HR</th>\n",
       "      <th>RBI</th>\n",
       "      <th>SB</th>\n",
       "      <th>CS</th>\n",
       "      <th>BB</th>\n",
       "      <th>SO</th>\n",
       "      <th>IBB</th>\n",
       "      <th>HBP</th>\n",
       "      <th>SH</th>\n",
       "      <th>SF</th>\n",
       "      <th>GIDP</th>\n",
       "      <th>AVG</th>\n",
       "    </tr>\n",
       "  </thead>\n",
       "  <tbody>\n",
       "    <tr>\n",
       "      <th>0</th>\n",
       "      <td>aardsda01</td>\n",
       "      <td>331</td>\n",
       "      <td>4</td>\n",
       "      <td>0</td>\n",
       "      <td>0</td>\n",
       "      <td>0</td>\n",
       "      <td>0</td>\n",
       "      <td>0</td>\n",
       "      <td>0.0</td>\n",
       "      <td>0.0</td>\n",
       "      <td>0.0</td>\n",
       "      <td>0</td>\n",
       "      <td>2.0</td>\n",
       "      <td>0.0</td>\n",
       "      <td>0.0</td>\n",
       "      <td>1.0</td>\n",
       "      <td>0.0</td>\n",
       "      <td>0.0</td>\n",
       "      <td>0.000000</td>\n",
       "    </tr>\n",
       "    <tr>\n",
       "      <th>1</th>\n",
       "      <td>aaronha01</td>\n",
       "      <td>3298</td>\n",
       "      <td>12364</td>\n",
       "      <td>2174</td>\n",
       "      <td>3771</td>\n",
       "      <td>624</td>\n",
       "      <td>98</td>\n",
       "      <td>755</td>\n",
       "      <td>2297.0</td>\n",
       "      <td>240.0</td>\n",
       "      <td>73.0</td>\n",
       "      <td>1402</td>\n",
       "      <td>1383.0</td>\n",
       "      <td>293.0</td>\n",
       "      <td>32.0</td>\n",
       "      <td>21.0</td>\n",
       "      <td>121.0</td>\n",
       "      <td>328.0</td>\n",
       "      <td>0.304998</td>\n",
       "    </tr>\n",
       "    <tr>\n",
       "      <th>2</th>\n",
       "      <td>aaronto01</td>\n",
       "      <td>437</td>\n",
       "      <td>944</td>\n",
       "      <td>102</td>\n",
       "      <td>216</td>\n",
       "      <td>42</td>\n",
       "      <td>6</td>\n",
       "      <td>13</td>\n",
       "      <td>94.0</td>\n",
       "      <td>9.0</td>\n",
       "      <td>8.0</td>\n",
       "      <td>86</td>\n",
       "      <td>145.0</td>\n",
       "      <td>3.0</td>\n",
       "      <td>0.0</td>\n",
       "      <td>9.0</td>\n",
       "      <td>6.0</td>\n",
       "      <td>36.0</td>\n",
       "      <td>0.228814</td>\n",
       "    </tr>\n",
       "    <tr>\n",
       "      <th>3</th>\n",
       "      <td>aasedo01</td>\n",
       "      <td>448</td>\n",
       "      <td>5</td>\n",
       "      <td>0</td>\n",
       "      <td>0</td>\n",
       "      <td>0</td>\n",
       "      <td>0</td>\n",
       "      <td>0</td>\n",
       "      <td>0.0</td>\n",
       "      <td>0.0</td>\n",
       "      <td>0.0</td>\n",
       "      <td>0</td>\n",
       "      <td>3.0</td>\n",
       "      <td>0.0</td>\n",
       "      <td>0.0</td>\n",
       "      <td>0.0</td>\n",
       "      <td>0.0</td>\n",
       "      <td>0.0</td>\n",
       "      <td>0.000000</td>\n",
       "    </tr>\n",
       "    <tr>\n",
       "      <th>4</th>\n",
       "      <td>abadan01</td>\n",
       "      <td>15</td>\n",
       "      <td>21</td>\n",
       "      <td>1</td>\n",
       "      <td>2</td>\n",
       "      <td>0</td>\n",
       "      <td>0</td>\n",
       "      <td>0</td>\n",
       "      <td>0.0</td>\n",
       "      <td>0.0</td>\n",
       "      <td>1.0</td>\n",
       "      <td>4</td>\n",
       "      <td>5.0</td>\n",
       "      <td>0.0</td>\n",
       "      <td>0.0</td>\n",
       "      <td>0.0</td>\n",
       "      <td>0.0</td>\n",
       "      <td>1.0</td>\n",
       "      <td>0.095238</td>\n",
       "    </tr>\n",
       "  </tbody>\n",
       "</table>\n",
       "</div>"
      ],
      "text/plain": [
       "    playerID     G     AB     R     H   2B  3B   HR     RBI     SB    CS  \\\n",
       "0  aardsda01   331      4     0     0    0   0    0     0.0    0.0   0.0   \n",
       "1  aaronha01  3298  12364  2174  3771  624  98  755  2297.0  240.0  73.0   \n",
       "2  aaronto01   437    944   102   216   42   6   13    94.0    9.0   8.0   \n",
       "3   aasedo01   448      5     0     0    0   0    0     0.0    0.0   0.0   \n",
       "4   abadan01    15     21     1     2    0   0    0     0.0    0.0   1.0   \n",
       "\n",
       "     BB      SO    IBB   HBP    SH     SF   GIDP       AVG  \n",
       "0     0     2.0    0.0   0.0   1.0    0.0    0.0  0.000000  \n",
       "1  1402  1383.0  293.0  32.0  21.0  121.0  328.0  0.304998  \n",
       "2    86   145.0    3.0   0.0   9.0    6.0   36.0  0.228814  \n",
       "3     0     3.0    0.0   0.0   0.0    0.0    0.0  0.000000  \n",
       "4     4     5.0    0.0   0.0   0.0    0.0    1.0  0.095238  "
      ]
     },
     "execution_count": 8,
     "metadata": {},
     "output_type": "execute_result"
    }
   ],
   "source": [
    "# trial with only 1 table\n",
    "batting_df = create_pandas_table('SELECT * FROM \"Batting\"')\n",
    "batting_df.head()"
   ]
  },
  {
   "cell_type": "markdown",
   "metadata": {},
   "source": [
    "### Build batting and fielding dataframe"
   ]
  },
  {
   "cell_type": "code",
   "execution_count": 34,
   "metadata": {},
   "outputs": [
    {
     "data": {
      "text/html": [
       "<div>\n",
       "<style scoped>\n",
       "    .dataframe tbody tr th:only-of-type {\n",
       "        vertical-align: middle;\n",
       "    }\n",
       "\n",
       "    .dataframe tbody tr th {\n",
       "        vertical-align: top;\n",
       "    }\n",
       "\n",
       "    .dataframe thead th {\n",
       "        text-align: right;\n",
       "    }\n",
       "</style>\n",
       "<table border=\"1\" class=\"dataframe\">\n",
       "  <thead>\n",
       "    <tr style=\"text-align: right;\">\n",
       "      <th></th>\n",
       "      <th>playerID</th>\n",
       "      <th>inducted</th>\n",
       "      <th>R</th>\n",
       "      <th>H</th>\n",
       "      <th>2B</th>\n",
       "      <th>3B</th>\n",
       "      <th>HR</th>\n",
       "      <th>RBI</th>\n",
       "      <th>SB</th>\n",
       "      <th>CS</th>\n",
       "      <th>...</th>\n",
       "      <th>IBB</th>\n",
       "      <th>SH</th>\n",
       "      <th>SF</th>\n",
       "      <th>GIDP</th>\n",
       "      <th>AVG</th>\n",
       "      <th>PO</th>\n",
       "      <th>A</th>\n",
       "      <th>E</th>\n",
       "      <th>DP</th>\n",
       "      <th>award_count</th>\n",
       "    </tr>\n",
       "  </thead>\n",
       "  <tbody>\n",
       "    <tr>\n",
       "      <th>0</th>\n",
       "      <td>aaronha01</td>\n",
       "      <td>Y</td>\n",
       "      <td>2174</td>\n",
       "      <td>3771</td>\n",
       "      <td>624</td>\n",
       "      <td>98</td>\n",
       "      <td>755</td>\n",
       "      <td>2297.0</td>\n",
       "      <td>240.0</td>\n",
       "      <td>73.0</td>\n",
       "      <td>...</td>\n",
       "      <td>293.0</td>\n",
       "      <td>21.0</td>\n",
       "      <td>121.0</td>\n",
       "      <td>328.0</td>\n",
       "      <td>0.304998</td>\n",
       "      <td>7436</td>\n",
       "      <td>429</td>\n",
       "      <td>144.0</td>\n",
       "      <td>218</td>\n",
       "      <td>16</td>\n",
       "    </tr>\n",
       "    <tr>\n",
       "      <th>1</th>\n",
       "      <td>abbotji01</td>\n",
       "      <td>N</td>\n",
       "      <td>0</td>\n",
       "      <td>2</td>\n",
       "      <td>0</td>\n",
       "      <td>0</td>\n",
       "      <td>0</td>\n",
       "      <td>3.0</td>\n",
       "      <td>0.0</td>\n",
       "      <td>0.0</td>\n",
       "      <td>...</td>\n",
       "      <td>0.0</td>\n",
       "      <td>3.0</td>\n",
       "      <td>0.0</td>\n",
       "      <td>0.0</td>\n",
       "      <td>0.095238</td>\n",
       "      <td>72</td>\n",
       "      <td>300</td>\n",
       "      <td>9.0</td>\n",
       "      <td>16</td>\n",
       "      <td>2</td>\n",
       "    </tr>\n",
       "    <tr>\n",
       "      <th>2</th>\n",
       "      <td>adamsba01</td>\n",
       "      <td>N</td>\n",
       "      <td>79</td>\n",
       "      <td>216</td>\n",
       "      <td>31</td>\n",
       "      <td>15</td>\n",
       "      <td>3</td>\n",
       "      <td>75.0</td>\n",
       "      <td>1.0</td>\n",
       "      <td>1.0</td>\n",
       "      <td>...</td>\n",
       "      <td>0.0</td>\n",
       "      <td>35.0</td>\n",
       "      <td>0.0</td>\n",
       "      <td>0.0</td>\n",
       "      <td>0.211973</td>\n",
       "      <td>58</td>\n",
       "      <td>648</td>\n",
       "      <td>17.0</td>\n",
       "      <td>17</td>\n",
       "      <td>2</td>\n",
       "    </tr>\n",
       "    <tr>\n",
       "      <th>3</th>\n",
       "      <td>ageeto01</td>\n",
       "      <td>N</td>\n",
       "      <td>558</td>\n",
       "      <td>999</td>\n",
       "      <td>170</td>\n",
       "      <td>27</td>\n",
       "      <td>130</td>\n",
       "      <td>433.0</td>\n",
       "      <td>167.0</td>\n",
       "      <td>81.0</td>\n",
       "      <td>...</td>\n",
       "      <td>26.0</td>\n",
       "      <td>21.0</td>\n",
       "      <td>15.0</td>\n",
       "      <td>99.0</td>\n",
       "      <td>0.255368</td>\n",
       "      <td>2371</td>\n",
       "      <td>53</td>\n",
       "      <td>61.0</td>\n",
       "      <td>18</td>\n",
       "      <td>3</td>\n",
       "    </tr>\n",
       "    <tr>\n",
       "      <th>4</th>\n",
       "      <td>akerja01</td>\n",
       "      <td>N</td>\n",
       "      <td>3</td>\n",
       "      <td>7</td>\n",
       "      <td>2</td>\n",
       "      <td>0</td>\n",
       "      <td>0</td>\n",
       "      <td>4.0</td>\n",
       "      <td>0.0</td>\n",
       "      <td>0.0</td>\n",
       "      <td>...</td>\n",
       "      <td>0.0</td>\n",
       "      <td>10.0</td>\n",
       "      <td>0.0</td>\n",
       "      <td>1.0</td>\n",
       "      <td>0.076087</td>\n",
       "      <td>65</td>\n",
       "      <td>167</td>\n",
       "      <td>8.0</td>\n",
       "      <td>20</td>\n",
       "      <td>1</td>\n",
       "    </tr>\n",
       "  </tbody>\n",
       "</table>\n",
       "<p>5 rows × 22 columns</p>\n",
       "</div>"
      ],
      "text/plain": [
       "    playerID inducted     R     H   2B  3B   HR     RBI     SB    CS  ...  \\\n",
       "0  aaronha01        Y  2174  3771  624  98  755  2297.0  240.0  73.0  ...   \n",
       "1  abbotji01        N     0     2    0   0    0     3.0    0.0   0.0  ...   \n",
       "2  adamsba01        N    79   216   31  15    3    75.0    1.0   1.0  ...   \n",
       "3   ageeto01        N   558   999  170  27  130   433.0  167.0  81.0  ...   \n",
       "4   akerja01        N     3     7    2   0    0     4.0    0.0   0.0  ...   \n",
       "\n",
       "     IBB    SH     SF   GIDP       AVG    PO    A      E   DP  award_count  \n",
       "0  293.0  21.0  121.0  328.0  0.304998  7436  429  144.0  218           16  \n",
       "1    0.0   3.0    0.0    0.0  0.095238    72  300    9.0   16            2  \n",
       "2    0.0  35.0    0.0    0.0  0.211973    58  648   17.0   17            2  \n",
       "3   26.0  21.0   15.0   99.0  0.255368  2371   53   61.0   18            3  \n",
       "4    0.0  10.0    0.0    1.0  0.076087    65  167    8.0   20            1  \n",
       "\n",
       "[5 rows x 22 columns]"
      ]
     },
     "execution_count": 34,
     "metadata": {},
     "output_type": "execute_result"
    }
   ],
   "source": [
    "# build batting/fielding df for machine learning analysis with SQL JOIN  multiple tables\n",
    "combined_df = create_pandas_table('SELECT h.\"playerID\",h.\"inducted\", b.\"R\",b.\"H\",b.\"2B\",b.\"3B\",b.\"HR\",b.\"RBI\",b.\"SB\", \\\n",
    "                                b.\"CS\",b.\"BB\",b.\"SO\",b.\"IBB\",b.\"SH\",b.\"SF\",b.\"GIDP\",b.\"AVG\",f.\"PO\",f.\"A\",f.\"E\",f.\"DP\",a.\"award_count\" \\\n",
    "                                   FROM \"Hall_Of_Fame\" AS h \\\n",
    "                                   INNER JOIN \"Batting\" as b ON (h.\"playerID\" = b.\"playerID\") \\\n",
    "                                   INNER JOIN \"Fielding\" as f ON (h.\"playerID\" = f.\"playerID\") \\\n",
    "                                   INNER JOIN \"Awards\" as a ON (h.\"playerID\" = a.\"playerID\")')\n",
    "combined_df.head()"
   ]
  },
  {
   "cell_type": "code",
   "execution_count": 10,
   "metadata": {},
   "outputs": [
    {
     "data": {
      "text/plain": [
       "(751, 22)"
      ]
     },
     "execution_count": 10,
     "metadata": {},
     "output_type": "execute_result"
    }
   ],
   "source": [
    "combined_df.shape"
   ]
  },
  {
   "cell_type": "code",
   "execution_count": 11,
   "metadata": {},
   "outputs": [
    {
     "data": {
      "text/plain": [
       "playerID       0\n",
       "inducted       0\n",
       "R              0\n",
       "H              0\n",
       "2B             0\n",
       "3B             0\n",
       "HR             0\n",
       "RBI            0\n",
       "SB             0\n",
       "CS             0\n",
       "BB             0\n",
       "SO             0\n",
       "IBB            0\n",
       "SH             0\n",
       "SF             0\n",
       "GIDP           0\n",
       "AVG            5\n",
       "PO             0\n",
       "A              0\n",
       "E              0\n",
       "DP             0\n",
       "award_count    0\n",
       "dtype: int64"
      ]
     },
     "execution_count": 11,
     "metadata": {},
     "output_type": "execute_result"
    }
   ],
   "source": [
    "combined_df.isnull().sum()"
   ]
  },
  {
   "cell_type": "code",
   "execution_count": 12,
   "metadata": {},
   "outputs": [],
   "source": [
    "# drop the rows with null values\n",
    "combined_df = combined_df.dropna(subset=['AVG'])"
   ]
  },
  {
   "cell_type": "code",
   "execution_count": 13,
   "metadata": {
    "scrolled": true
   },
   "outputs": [
    {
     "data": {
      "text/plain": [
       "(746, 22)"
      ]
     },
     "execution_count": 13,
     "metadata": {},
     "output_type": "execute_result"
    }
   ],
   "source": [
    "# double check df shape\n",
    "combined_df.shape"
   ]
  },
  {
   "cell_type": "markdown",
   "metadata": {},
   "source": [
    "### Build pitching dataframe"
   ]
  },
  {
   "cell_type": "code",
   "execution_count": 14,
   "metadata": {
    "scrolled": false
   },
   "outputs": [
    {
     "data": {
      "text/html": [
       "<div>\n",
       "<style scoped>\n",
       "    .dataframe tbody tr th:only-of-type {\n",
       "        vertical-align: middle;\n",
       "    }\n",
       "\n",
       "    .dataframe tbody tr th {\n",
       "        vertical-align: top;\n",
       "    }\n",
       "\n",
       "    .dataframe thead th {\n",
       "        text-align: right;\n",
       "    }\n",
       "</style>\n",
       "<table border=\"1\" class=\"dataframe\">\n",
       "  <thead>\n",
       "    <tr style=\"text-align: right;\">\n",
       "      <th></th>\n",
       "      <th>playerID</th>\n",
       "      <th>inducted</th>\n",
       "      <th>W</th>\n",
       "      <th>L</th>\n",
       "      <th>CG</th>\n",
       "      <th>SHO</th>\n",
       "      <th>SV</th>\n",
       "      <th>H_allowed</th>\n",
       "      <th>ER</th>\n",
       "      <th>HR_allowed</th>\n",
       "      <th>...</th>\n",
       "      <th>BAOpp</th>\n",
       "      <th>ERA</th>\n",
       "      <th>WP</th>\n",
       "      <th>HitBatsmen</th>\n",
       "      <th>BK</th>\n",
       "      <th>R_allowed</th>\n",
       "      <th>SH_allowed</th>\n",
       "      <th>SF_allowed</th>\n",
       "      <th>GIDP_pitcher</th>\n",
       "      <th>award_count</th>\n",
       "    </tr>\n",
       "  </thead>\n",
       "  <tbody>\n",
       "    <tr>\n",
       "      <th>0</th>\n",
       "      <td>abbotji01</td>\n",
       "      <td>N</td>\n",
       "      <td>87</td>\n",
       "      <td>108</td>\n",
       "      <td>31</td>\n",
       "      <td>6</td>\n",
       "      <td>0</td>\n",
       "      <td>1779</td>\n",
       "      <td>791</td>\n",
       "      <td>154</td>\n",
       "      <td>...</td>\n",
       "      <td>0.280364</td>\n",
       "      <td>4.496364</td>\n",
       "      <td>53</td>\n",
       "      <td>32.0</td>\n",
       "      <td>11</td>\n",
       "      <td>880</td>\n",
       "      <td>70.0</td>\n",
       "      <td>47.0</td>\n",
       "      <td>200.0</td>\n",
       "      <td>2</td>\n",
       "    </tr>\n",
       "    <tr>\n",
       "      <th>1</th>\n",
       "      <td>adamsba01</td>\n",
       "      <td>N</td>\n",
       "      <td>194</td>\n",
       "      <td>140</td>\n",
       "      <td>206</td>\n",
       "      <td>44</td>\n",
       "      <td>15</td>\n",
       "      <td>2841</td>\n",
       "      <td>917</td>\n",
       "      <td>68</td>\n",
       "      <td>...</td>\n",
       "      <td>0.256667</td>\n",
       "      <td>3.733684</td>\n",
       "      <td>26</td>\n",
       "      <td>47.0</td>\n",
       "      <td>2</td>\n",
       "      <td>1129</td>\n",
       "      <td>0.0</td>\n",
       "      <td>0.0</td>\n",
       "      <td>0.0</td>\n",
       "      <td>2</td>\n",
       "    </tr>\n",
       "    <tr>\n",
       "      <th>2</th>\n",
       "      <td>akerja01</td>\n",
       "      <td>N</td>\n",
       "      <td>47</td>\n",
       "      <td>45</td>\n",
       "      <td>0</td>\n",
       "      <td>0</td>\n",
       "      <td>123</td>\n",
       "      <td>679</td>\n",
       "      <td>272</td>\n",
       "      <td>64</td>\n",
       "      <td>...</td>\n",
       "      <td>0.253571</td>\n",
       "      <td>3.854286</td>\n",
       "      <td>13</td>\n",
       "      <td>40.0</td>\n",
       "      <td>0</td>\n",
       "      <td>312</td>\n",
       "      <td>32.0</td>\n",
       "      <td>12.0</td>\n",
       "      <td>19.0</td>\n",
       "      <td>1</td>\n",
       "    </tr>\n",
       "    <tr>\n",
       "      <th>3</th>\n",
       "      <td>alexape01</td>\n",
       "      <td>Y</td>\n",
       "      <td>373</td>\n",
       "      <td>208</td>\n",
       "      <td>437</td>\n",
       "      <td>90</td>\n",
       "      <td>32</td>\n",
       "      <td>4868</td>\n",
       "      <td>1476</td>\n",
       "      <td>164</td>\n",
       "      <td>...</td>\n",
       "      <td>0.253810</td>\n",
       "      <td>2.972381</td>\n",
       "      <td>39</td>\n",
       "      <td>70.0</td>\n",
       "      <td>1</td>\n",
       "      <td>1851</td>\n",
       "      <td>0.0</td>\n",
       "      <td>0.0</td>\n",
       "      <td>0.0</td>\n",
       "      <td>21</td>\n",
       "    </tr>\n",
       "    <tr>\n",
       "      <th>4</th>\n",
       "      <td>allenjo02</td>\n",
       "      <td>N</td>\n",
       "      <td>142</td>\n",
       "      <td>75</td>\n",
       "      <td>109</td>\n",
       "      <td>17</td>\n",
       "      <td>18</td>\n",
       "      <td>1849</td>\n",
       "      <td>813</td>\n",
       "      <td>104</td>\n",
       "      <td>...</td>\n",
       "      <td>0.244667</td>\n",
       "      <td>3.765333</td>\n",
       "      <td>68</td>\n",
       "      <td>38.0</td>\n",
       "      <td>5</td>\n",
       "      <td>924</td>\n",
       "      <td>0.0</td>\n",
       "      <td>0.0</td>\n",
       "      <td>0.0</td>\n",
       "      <td>4</td>\n",
       "    </tr>\n",
       "  </tbody>\n",
       "</table>\n",
       "<p>5 rows × 22 columns</p>\n",
       "</div>"
      ],
      "text/plain": [
       "    playerID inducted    W    L   CG  SHO   SV  H_allowed    ER  HR_allowed  \\\n",
       "0  abbotji01        N   87  108   31    6    0       1779   791         154   \n",
       "1  adamsba01        N  194  140  206   44   15       2841   917          68   \n",
       "2   akerja01        N   47   45    0    0  123        679   272          64   \n",
       "3  alexape01        Y  373  208  437   90   32       4868  1476         164   \n",
       "4  allenjo02        N  142   75  109   17   18       1849   813         104   \n",
       "\n",
       "   ...     BAOpp       ERA  WP  HitBatsmen  BK  R_allowed  SH_allowed  \\\n",
       "0  ...  0.280364  4.496364  53        32.0  11        880        70.0   \n",
       "1  ...  0.256667  3.733684  26        47.0   2       1129         0.0   \n",
       "2  ...  0.253571  3.854286  13        40.0   0        312        32.0   \n",
       "3  ...  0.253810  2.972381  39        70.0   1       1851         0.0   \n",
       "4  ...  0.244667  3.765333  68        38.0   5        924         0.0   \n",
       "\n",
       "   SF_allowed  GIDP_pitcher  award_count  \n",
       "0        47.0         200.0            2  \n",
       "1         0.0           0.0            2  \n",
       "2        12.0          19.0            1  \n",
       "3         0.0           0.0           21  \n",
       "4         0.0           0.0            4  \n",
       "\n",
       "[5 rows x 22 columns]"
      ]
     },
     "execution_count": 14,
     "metadata": {},
     "output_type": "execute_result"
    }
   ],
   "source": [
    "# build pitching df for machine learning analysis with SQL JOIN multiple tables\n",
    "pitching_df = create_pandas_table('SELECT h.\"playerID\",h.\"inducted\",p.\"W\",p.\"L\",p.\"CG\",p.\"SHO\",p.\"SV\",p.\"H_allowed\",p.\"ER\",p.\"HR_allowed\",p.\"BB_allowed\",p.\"StruckOut\",p.\"BAOpp\",p.\"ERA\",p.\"WP\",p.\"HitBatsmen\",p.\"BK\",p.\"R_allowed\",p.\"SH_allowed\",p.\"SF_allowed\",p.\"GIDP_pitcher\",a.\"award_count\" FROM \"Hall_Of_Fame\" AS h INNER JOIN \"Pitching\" as p ON (h.\"playerID\" = p.\"playerID\") INNER JOIN \"Awards\" as a ON (h.\"playerID\" = a.\"playerID\")')\n",
    "pitching_df.head()"
   ]
  },
  {
   "cell_type": "code",
   "execution_count": 15,
   "metadata": {
    "scrolled": false
   },
   "outputs": [
    {
     "data": {
      "text/plain": [
       "(284, 22)"
      ]
     },
     "execution_count": 15,
     "metadata": {},
     "output_type": "execute_result"
    }
   ],
   "source": [
    "# check shape of df\n",
    "pitching_df.shape"
   ]
  },
  {
   "cell_type": "code",
   "execution_count": 16,
   "metadata": {},
   "outputs": [
    {
     "data": {
      "text/plain": [
       "playerID         0\n",
       "inducted         0\n",
       "W                0\n",
       "L                0\n",
       "CG               0\n",
       "SHO              0\n",
       "SV               0\n",
       "H_allowed        0\n",
       "ER               0\n",
       "HR_allowed       0\n",
       "BB_allowed       0\n",
       "StruckOut        0\n",
       "BAOpp           14\n",
       "ERA              2\n",
       "WP               0\n",
       "HitBatsmen       0\n",
       "BK               0\n",
       "R_allowed        0\n",
       "SH_allowed       0\n",
       "SF_allowed       0\n",
       "GIDP_pitcher     0\n",
       "award_count      0\n",
       "dtype: int64"
      ]
     },
     "execution_count": 16,
     "metadata": {},
     "output_type": "execute_result"
    }
   ],
   "source": [
    "# check for null values\n",
    "pitching_df.isnull().sum()"
   ]
  },
  {
   "cell_type": "code",
   "execution_count": 17,
   "metadata": {},
   "outputs": [],
   "source": [
    "# drop the rows with null values\n",
    "pitching_df = pitching_df.dropna(subset=['ERA','BAOpp'])"
   ]
  },
  {
   "cell_type": "code",
   "execution_count": 18,
   "metadata": {
    "scrolled": true
   },
   "outputs": [
    {
     "data": {
      "text/plain": [
       "(268, 22)"
      ]
     },
     "execution_count": 18,
     "metadata": {},
     "output_type": "execute_result"
    }
   ],
   "source": [
    "# double check df shape\n",
    "pitching_df.shape"
   ]
  },
  {
   "cell_type": "markdown",
   "metadata": {},
   "source": [
    "# Machine Learning"
   ]
  },
  {
   "cell_type": "code",
   "execution_count": 19,
   "metadata": {},
   "outputs": [],
   "source": [
    "# define which dataframe will be used in machine learning model\n",
    "# e.g. pitching or batting/fielding\n",
    "\n",
    "df = combined_df"
   ]
  },
  {
   "cell_type": "code",
   "execution_count": 20,
   "metadata": {
    "id": "lVp9oW6FisqH"
   },
   "outputs": [],
   "source": [
    "# encode inducted column from Y/N to numeric 0/1\n",
    "from sklearn.preprocessing import LabelEncoder\n",
    "le = LabelEncoder()\n",
    "df2 = df.copy()\n",
    "df2['inducted'] = le.fit_transform(df2['inducted'])"
   ]
  },
  {
   "cell_type": "code",
   "execution_count": 21,
   "metadata": {
    "id": "Q6E-BjyGixcD"
   },
   "outputs": [],
   "source": [
    "# encode playerID to numeric\n",
    "# possibly remove if we want to keep playerID's as index to later reference player names\n",
    "\n",
    "# df2['playerID'] = le.fit_transform(df2['playerID'])"
   ]
  },
  {
   "cell_type": "code",
   "execution_count": 22,
   "metadata": {
    "id": "P7d9n0Rphy2F"
   },
   "outputs": [],
   "source": [
    "# define input (X) and output (y) variables\n",
    "# drop columns of unnecessary features in X \n",
    "# batting/fielding 1st iteration showed the following features contributed <3%:\n",
    "# SF, CS, IBB, SB\n",
    "\n",
    "y = df2[\"inducted\"]\n",
    "X = df2.drop(columns=[\"inducted\", \"playerID\", \"SF\", \"CS\", \"IBB\", \"SB\"])"
   ]
  },
  {
   "cell_type": "code",
   "execution_count": 23,
   "metadata": {
    "id": "ns0s64Iyh9CI"
   },
   "outputs": [],
   "source": [
    "# Splitting into Train and Test sets.\n",
    "X_train, X_test, y_train, y_test = train_test_split(X, y, random_state=78)"
   ]
  },
  {
   "cell_type": "code",
   "execution_count": 24,
   "metadata": {
    "id": "5CopZ47viDJ5"
   },
   "outputs": [],
   "source": [
    "# Creating a StandardScaler instance.\n",
    "scaler = StandardScaler()\n",
    "# Fitting the Standard Scaler with the training data.\n",
    "X_scaler = scaler.fit(X_train)\n",
    "\n",
    "# Scaling the data.\n",
    "X_train_scaled = X_scaler.transform(X_train)\n",
    "X_test_scaled = X_scaler.transform(X_test)"
   ]
  },
  {
   "cell_type": "code",
   "execution_count": 25,
   "metadata": {
    "id": "CvW1Mw26iHAT"
   },
   "outputs": [],
   "source": [
    "# Create a random forest classifier.\n",
    "rf_model = RandomForestClassifier(n_estimators=128, random_state=78) "
   ]
  },
  {
   "cell_type": "code",
   "execution_count": 26,
   "metadata": {
    "id": "D3zKq7u5iQBi"
   },
   "outputs": [],
   "source": [
    "# Fitting the model\n",
    "rf_model = rf_model.fit(X_train_scaled, y_train)"
   ]
  },
  {
   "cell_type": "code",
   "execution_count": 27,
   "metadata": {
    "id": "gz2qeo8ziTa1"
   },
   "outputs": [],
   "source": [
    "# Making predictions using the testing data.\n",
    "predictions = rf_model.predict(X_test_scaled)"
   ]
  },
  {
   "cell_type": "code",
   "execution_count": 28,
   "metadata": {
    "colab": {
     "base_uri": "https://localhost:8080/",
     "height": 111
    },
    "executionInfo": {
     "elapsed": 799,
     "status": "ok",
     "timestamp": 1603761290277,
     "user": {
      "displayName": "Dane Whitted",
      "photoUrl": "https://lh3.googleusercontent.com/a-/AOh14GgWhthUV4IEa6Ya--IylEAejadzOAje8STbNFMZwIc=s64",
      "userId": "04447519044525334552"
     },
     "user_tz": 300
    },
    "id": "wHez-aopiYkb",
    "outputId": "9d596d1e-a28d-49cd-8943-c388f74038a9"
   },
   "outputs": [
    {
     "data": {
      "text/html": [
       "<div>\n",
       "<style scoped>\n",
       "    .dataframe tbody tr th:only-of-type {\n",
       "        vertical-align: middle;\n",
       "    }\n",
       "\n",
       "    .dataframe tbody tr th {\n",
       "        vertical-align: top;\n",
       "    }\n",
       "\n",
       "    .dataframe thead th {\n",
       "        text-align: right;\n",
       "    }\n",
       "</style>\n",
       "<table border=\"1\" class=\"dataframe\">\n",
       "  <thead>\n",
       "    <tr style=\"text-align: right;\">\n",
       "      <th></th>\n",
       "      <th>Predicted 0</th>\n",
       "      <th>Predicted 1</th>\n",
       "    </tr>\n",
       "  </thead>\n",
       "  <tbody>\n",
       "    <tr>\n",
       "      <th>Actual 0</th>\n",
       "      <td>127</td>\n",
       "      <td>12</td>\n",
       "    </tr>\n",
       "    <tr>\n",
       "      <th>Actual 1</th>\n",
       "      <td>13</td>\n",
       "      <td>35</td>\n",
       "    </tr>\n",
       "  </tbody>\n",
       "</table>\n",
       "</div>"
      ],
      "text/plain": [
       "          Predicted 0  Predicted 1\n",
       "Actual 0          127           12\n",
       "Actual 1           13           35"
      ]
     },
     "execution_count": 28,
     "metadata": {},
     "output_type": "execute_result"
    }
   ],
   "source": [
    "# Calculating the confusion matrix.\n",
    "cm = confusion_matrix(y_test, predictions)\n",
    "\n",
    "# Create a DataFrame from the confusion matrix.\n",
    "cm_df = pd.DataFrame(\n",
    "    cm, index=[\"Actual 0\", \"Actual 1\"], columns=[\"Predicted 0\", \"Predicted 1\"])\n",
    "\n",
    "cm_df"
   ]
  },
  {
   "cell_type": "code",
   "execution_count": 29,
   "metadata": {
    "id": "PyW8EfQEicuQ"
   },
   "outputs": [],
   "source": [
    "# Calculating the accuracy score.\n",
    "acc_score = accuracy_score(y_test, predictions)"
   ]
  },
  {
   "cell_type": "code",
   "execution_count": 30,
   "metadata": {
    "colab": {
     "base_uri": "https://localhost:8080/",
     "height": 315
    },
    "executionInfo": {
     "elapsed": 833,
     "status": "ok",
     "timestamp": 1603761294603,
     "user": {
      "displayName": "Dane Whitted",
      "photoUrl": "https://lh3.googleusercontent.com/a-/AOh14GgWhthUV4IEa6Ya--IylEAejadzOAje8STbNFMZwIc=s64",
      "userId": "04447519044525334552"
     },
     "user_tz": 300
    },
    "id": "ZoghdUJAifXA",
    "outputId": "0244f8c3-1eab-40ba-8d7b-a8fa61a37fcb"
   },
   "outputs": [
    {
     "name": "stdout",
     "output_type": "stream",
     "text": [
      "Confusion Matrix\n"
     ]
    },
    {
     "data": {
      "text/html": [
       "<div>\n",
       "<style scoped>\n",
       "    .dataframe tbody tr th:only-of-type {\n",
       "        vertical-align: middle;\n",
       "    }\n",
       "\n",
       "    .dataframe tbody tr th {\n",
       "        vertical-align: top;\n",
       "    }\n",
       "\n",
       "    .dataframe thead th {\n",
       "        text-align: right;\n",
       "    }\n",
       "</style>\n",
       "<table border=\"1\" class=\"dataframe\">\n",
       "  <thead>\n",
       "    <tr style=\"text-align: right;\">\n",
       "      <th></th>\n",
       "      <th>Predicted 0</th>\n",
       "      <th>Predicted 1</th>\n",
       "    </tr>\n",
       "  </thead>\n",
       "  <tbody>\n",
       "    <tr>\n",
       "      <th>Actual 0</th>\n",
       "      <td>127</td>\n",
       "      <td>12</td>\n",
       "    </tr>\n",
       "    <tr>\n",
       "      <th>Actual 1</th>\n",
       "      <td>13</td>\n",
       "      <td>35</td>\n",
       "    </tr>\n",
       "  </tbody>\n",
       "</table>\n",
       "</div>"
      ],
      "text/plain": [
       "          Predicted 0  Predicted 1\n",
       "Actual 0          127           12\n",
       "Actual 1           13           35"
      ]
     },
     "metadata": {},
     "output_type": "display_data"
    },
    {
     "name": "stdout",
     "output_type": "stream",
     "text": [
      "Accuracy Score : 0.8663101604278075\n",
      "Classification Report\n",
      "              precision    recall  f1-score   support\n",
      "\n",
      "           0       0.91      0.91      0.91       139\n",
      "           1       0.74      0.73      0.74        48\n",
      "\n",
      "    accuracy                           0.87       187\n",
      "   macro avg       0.83      0.82      0.82       187\n",
      "weighted avg       0.87      0.87      0.87       187\n",
      "\n"
     ]
    }
   ],
   "source": [
    "# Displaying results\n",
    "print(\"Confusion Matrix\")\n",
    "display(cm_df)\n",
    "print(f\"Accuracy Score : {acc_score}\")\n",
    "print(\"Classification Report\")\n",
    "print(classification_report(y_test, predictions))\n"
   ]
  },
  {
   "cell_type": "code",
   "execution_count": 31,
   "metadata": {
    "colab": {
     "base_uri": "https://localhost:8080/",
     "height": 85
    },
    "executionInfo": {
     "elapsed": 723,
     "status": "ok",
     "timestamp": 1603761299674,
     "user": {
      "displayName": "Dane Whitted",
      "photoUrl": "https://lh3.googleusercontent.com/a-/AOh14GgWhthUV4IEa6Ya--IylEAejadzOAje8STbNFMZwIc=s64",
      "userId": "04447519044525334552"
     },
     "user_tz": 300
    },
    "id": "U1LESvIylNcx",
    "outputId": "52e20e32-a5ae-4f27-9ddd-f4a7305b01fc"
   },
   "outputs": [
    {
     "data": {
      "text/plain": [
       "array([0.09405157, 0.09031537, 0.04394405, 0.04595591, 0.03805029,\n",
       "       0.05852511, 0.04295533, 0.0558363 , 0.04382171, 0.03826045,\n",
       "       0.09112769, 0.04618862, 0.06312932, 0.04817306, 0.03818609,\n",
       "       0.16147912])"
      ]
     },
     "execution_count": 31,
     "metadata": {},
     "output_type": "execute_result"
    }
   ],
   "source": [
    "# Calculate feature importance in the Random Forest model.\n",
    "importances = rf_model.feature_importances_\n",
    "importances"
   ]
  },
  {
   "cell_type": "code",
   "execution_count": 32,
   "metadata": {
    "colab": {
     "base_uri": "https://localhost:8080/",
     "height": 357
    },
    "executionInfo": {
     "elapsed": 690,
     "status": "ok",
     "timestamp": 1603761302559,
     "user": {
      "displayName": "Dane Whitted",
      "photoUrl": "https://lh3.googleusercontent.com/a-/AOh14GgWhthUV4IEa6Ya--IylEAejadzOAje8STbNFMZwIc=s64",
      "userId": "04447519044525334552"
     },
     "user_tz": 300
    },
    "id": "saIZC8SUlWed",
    "outputId": "fda72fde-d0d9-4f32-8ca3-3280f2ea5150",
    "scrolled": false
   },
   "outputs": [
    {
     "data": {
      "text/plain": [
       "[(0.16147912339241308, 'award_count'),\n",
       " (0.09405157260170642, 'R'),\n",
       " (0.09112768741100967, 'AVG'),\n",
       " (0.09031537296116243, 'H'),\n",
       " (0.06312932357843094, 'A'),\n",
       " (0.05852511210356192, 'RBI'),\n",
       " (0.055836295695513474, 'SO'),\n",
       " (0.048173059370415085, 'E'),\n",
       " (0.04618862487663315, 'PO'),\n",
       " (0.04595590841272363, '3B'),\n",
       " (0.0439440495451252, '2B'),\n",
       " (0.043821710445384736, 'SH'),\n",
       " (0.04295532881342847, 'BB'),\n",
       " (0.03826045232174703, 'GIDP'),\n",
       " (0.03818608929511483, 'DP'),\n",
       " (0.03805028917562995, 'HR')]"
      ]
     },
     "execution_count": 32,
     "metadata": {},
     "output_type": "execute_result"
    }
   ],
   "source": [
    "# sort the features by their importance.\n",
    "sorted(zip(rf_model.feature_importances_, X.columns), reverse=True)"
   ]
  },
  {
   "cell_type": "code",
   "execution_count": 33,
   "metadata": {},
   "outputs": [
    {
     "data": {
      "text/plain": [
       "1.0"
      ]
     },
     "execution_count": 33,
     "metadata": {},
     "output_type": "execute_result"
    }
   ],
   "source": [
    "rf_model.feature_importances_.sum()"
   ]
  }
 ],
 "metadata": {
  "colab": {
   "name": "Copy of HOF_randomF.ipynb",
   "provenance": [
    {
     "file_id": "15FxKPFIvdBB1D6gBEd9JUsD_yQekn_XN",
     "timestamp": 1603902010274
    }
   ]
  },
  "kernelspec": {
   "display_name": "PythonData",
   "language": "python",
   "name": "pythondata"
  },
  "language_info": {
   "codemirror_mode": {
    "name": "ipython",
    "version": 3
   },
   "file_extension": ".py",
   "mimetype": "text/x-python",
   "name": "python",
   "nbconvert_exporter": "python",
   "pygments_lexer": "ipython3",
   "version": "3.7.7"
  }
 },
 "nbformat": 4,
 "nbformat_minor": 1
}
